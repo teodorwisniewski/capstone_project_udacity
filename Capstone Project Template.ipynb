{
 "cells": [
  {
   "attachments": {},
   "cell_type": "markdown",
   "metadata": {},
   "source": [
    "# Project Title\n",
    "### Data Engineering Capstone Project\n",
    "\n",
    "#### Project Summary\n",
    "--describe your project at a high level--\n",
    "\n",
    "The project follows the follow steps:\n",
    "* Step 1: Scope the Project and Gather Data\n",
    "* Step 2: Explore and Assess the Data\n",
    "* Step 3: Define the Data Model\n",
    "* Step 4: Run ETL to Model the Data\n",
    "* Step 5: Complete Project Write Up"
   ]
  },
  {
   "cell_type": "code",
   "execution_count": 1,
   "metadata": {},
   "outputs": [],
   "source": [
    "# Do all imports and installs here\n",
    "import pandas as pd\n",
    "from pyspark.sql import SparkSession\n",
    "from pyspark.sql.functions import col, sum, mean\n",
    "from pyspark.sql.functions import expr, to_date\n",
    "from pyspark.sql.functions import array, col, explode, struct, lit\n",
    "\n"
   ]
  },
  {
   "cell_type": "code",
   "execution_count": null,
   "metadata": {},
   "outputs": [],
   "source": []
  },
  {
   "cell_type": "code",
   "execution_count": 2,
   "metadata": {},
   "outputs": [],
   "source": [
    "import networkx as nx\n",
    "import matplotlib.pyplot as plt\n",
    "from graphviz import Digraph"
   ]
  },
  {
   "cell_type": "code",
   "execution_count": 4,
   "metadata": {},
   "outputs": [],
   "source": [
    "# Read in the data here\n",
    "spark = SparkSession.builder.master(\"local\") \\\n",
    "    .appName(\"US Accidents and Weather EDA\") \\\n",
    "    .getOrCreate()\n"
   ]
  },
  {
   "attachments": {},
   "cell_type": "markdown",
   "metadata": {},
   "source": [
    "### Step 1: Scope the Project and Gather Data\n",
    "\n",
    "#### Scope \n",
    "    US Accidents Data: This data can be found on Kaggle. It includes several million records of accidents across the US, with details about the severity, location, and timing of each accident.\n",
    "    US City Demographic Data: This data comes from OpenSoft and includes information by city, state, age, population, veteran status, and race.\n",
    "    Weather Data: This data can be found on Kaggle or other open data platforms. It includes historical weather conditions by city, including temperature, precipitation, and weather events.\n",
    "\n",
    "#### Describe and Gather Data \n",
    "The end result will be a data warehouse in the cloud (AWS Redshift). It will be used for analytics purposes, allowing the company to identify accident patterns and correlations with weather and demographic factors."
   ]
  },
  {
   "cell_type": "code",
   "execution_count": null,
   "metadata": {},
   "outputs": [],
   "source": []
  },
  {
   "cell_type": "code",
   "execution_count": 5,
   "metadata": {},
   "outputs": [],
   "source": [
    "# Load the accidents data\n",
    "accidents_df = spark.read.format('csv').option('header','true').option('inferSchema', 'true').load('data/US_Accidents_Dec21_updated.csv')\n",
    "\n",
    "\n",
    "# Load the weather data\n",
    "city_attributes_df = spark.read.format('csv').option('header','true').option('inferSchema', 'true').load('data/city_attributes.csv')\n",
    "humidity_df = spark.read.format('csv').option('header','true').option('inferSchema', 'true').load('data/humidity.csv')\n",
    "pressure_df = spark.read.format('csv').option('header','true').option('inferSchema', 'true').load('data/pressure.csv')\n",
    "temperature_df = spark.read.format('csv').option('header','true').option('inferSchema', 'true').load('data/temperature.csv')\n",
    "weather_desc_df = spark.read.format('csv').option('header','true').option('inferSchema', 'true').load('data/weather_description.csv')\n",
    "wind_direction_df = spark.read.format('csv').option('header','true').option('inferSchema', 'true').load('data/wind_direction.csv')\n",
    "wind_speed_df = spark.read.format('csv').option('header','true').option('inferSchema', 'true').load('data/wind_speed.csv')\n"
   ]
  },
  {
   "cell_type": "code",
   "execution_count": 6,
   "metadata": {},
   "outputs": [],
   "source": [
    "# Load the demographics data\n",
    "demographics_df = spark.read.format('csv').option('header','true').option(\"delimiter\", \";\").option('inferSchema', 'true').load('data/us-cities-demographics.csv')\n"
   ]
  },
  {
   "cell_type": "code",
   "execution_count": 7,
   "metadata": {},
   "outputs": [
    {
     "name": "stdout",
     "output_type": "stream",
     "text": [
      "+----+--------+-------------------+-------------------+------------------+------------------+------------------+------------------+-------------------+--------------------+-------+--------------+----+------------+----------+-----+----------+-------+----------+------------+-------------------+--------------+-------------+-----------+------------+--------------+--------------+---------------+-----------------+-----------------+-------+-----+--------+--------+--------+-------+-------+----------+-------+-----+---------------+--------------+------------+--------------+--------------+-----------------+---------------------+\n",
      "|  ID|Severity|         Start_Time|           End_Time|         Start_Lat|         Start_Lng|           End_Lat|           End_Lng|       Distance(mi)|         Description| Number|        Street|Side|        City|    County|State|   Zipcode|Country|  Timezone|Airport_Code|  Weather_Timestamp|Temperature(F)|Wind_Chill(F)|Humidity(%)|Pressure(in)|Visibility(mi)|Wind_Direction|Wind_Speed(mph)|Precipitation(in)|Weather_Condition|Amenity| Bump|Crossing|Give_Way|Junction|No_Exit|Railway|Roundabout|Station| Stop|Traffic_Calming|Traffic_Signal|Turning_Loop|Sunrise_Sunset|Civil_Twilight|Nautical_Twilight|Astronomical_Twilight|\n",
      "+----+--------+-------------------+-------------------+------------------+------------------+------------------+------------------+-------------------+--------------------+-------+--------------+----+------------+----------+-----+----------+-------+----------+------------+-------------------+--------------+-------------+-----------+------------+--------------+--------------+---------------+-----------------+-----------------+-------+-----+--------+--------+--------+-------+-------+----------+-------+-----+---------------+--------------+------------+--------------+--------------+-----------------+---------------------+\n",
      "| A-1|       3|2016-02-08 00:37:08|2016-02-08 06:37:08|40.108909999999995|         -83.09286|          40.11206|         -83.03187|               3.23|Between Sawmill R...|   null|   Outerbelt E|   R|      Dublin|  Franklin|   OH|     43017|     US|US/Eastern|        KOSU|2016-02-08 00:53:00|          42.1|         36.1|       58.0|       29.76|          10.0|            SW|           10.4|              0.0|       Light Rain|  false|false|   false|   false|   false|  false|  false|     false|  false|false|          false|         false|       false|         Night|         Night|            Night|                Night|\n",
      "| A-2|       2|2016-02-08 05:56:20|2016-02-08 11:56:20|          39.86542|          -84.0628|          39.86501|         -84.04873|              0.747|At OH-4/OH-235/Ex...|   null|        I-70 E|   R|      Dayton|Montgomery|   OH|     45424|     US|US/Eastern|        KFFO|2016-02-08 05:58:00|          36.9|         null|       91.0|       29.68|          10.0|          Calm|           null|             0.02|       Light Rain|  false|false|   false|   false|   false|  false|  false|     false|  false|false|          false|         false|       false|         Night|         Night|            Night|                Night|\n",
      "| A-3|       2|2016-02-08 06:15:39|2016-02-08 12:15:39|          39.10266|         -84.52468|39.102090000000004|         -84.52396|              0.055|At I-71/US-50/Exi...|   null|        I-75 S|   R|  Cincinnati|  Hamilton|   OH|     45203|     US|US/Eastern|        KLUK|2016-02-08 05:53:00|          36.0|         null|       97.0|        29.7|          10.0|          Calm|           null|             0.02|         Overcast|  false|false|   false|   false|    true|  false|  false|     false|  false|false|          false|         false|       false|         Night|         Night|            Night|                  Day|\n",
      "| A-4|       2|2016-02-08 06:51:45|2016-02-08 12:51:45|41.062129999999996|         -81.53784|          41.06217|-81.53546999999998|0.12300000000000001|At Dart Ave/Exit ...|   null|        I-77 N|   R|       Akron|    Summit|   OH|     44311|     US|US/Eastern|        KAKR|2016-02-08 06:54:00|          39.0|         null|       55.0|       29.65|          10.0|          Calm|           null|             null|         Overcast|  false|false|   false|   false|   false|  false|  false|     false|  false|false|          false|         false|       false|         Night|         Night|              Day|                  Day|\n",
      "| A-5|       3|2016-02-08 07:53:43|2016-02-08 13:53:43|         39.172393|-84.49279200000002|         39.170476|        -84.501798|                0.5|At Mitchell Ave/E...|   null|        I-75 S|   R|  Cincinnati|  Hamilton|   OH|     45217|     US|US/Eastern|        KLUK|2016-02-08 07:53:00|          37.0|         29.8|       93.0|       29.69|          10.0|           WSW|           10.4|             0.01|       Light Rain|  false|false|   false|   false|   false|  false|  false|     false|  false|false|          false|         false|       false|           Day|           Day|              Day|                  Day|\n",
      "| A-6|       2|2016-02-08 08:16:57|2016-02-08 14:16:57|          39.06324|         -84.03243|          39.06731|         -84.05851| 1.4269999999999998|At Dela Palma Rd ...|   null|State Route 32|   R|Williamsburg|  Clermont|   OH|     45176|     US|US/Eastern|        KI69|2016-02-08 08:16:00|          35.6|         29.2|      100.0|       29.66|          10.0|           WSW|            8.1|             null|         Overcast|  false|false|   false|   false|   false|  false|  false|     false|  false|false|          false|          true|       false|           Day|           Day|              Day|                  Day|\n",
      "| A-7|       2|2016-02-08 08:15:41|2016-02-08 14:15:41|          39.77565|         -84.18603|          39.77275|         -84.18805|0.22699999999999998|At OH-4/Exit 54 -...|   null|        I-75 S|   R|      Dayton|Montgomery|   OH|     45404|     US|US/Eastern|        KFFO|2016-02-08 08:18:00|          33.8|         null|      100.0|       29.63|           3.0|            SW|            2.3|             null|    Mostly Cloudy|  false|false|   false|   false|   false|  false|  false|     false|  false|false|          false|         false|       false|           Day|           Day|              Day|                  Day|\n",
      "| A-8|       2|2016-02-08 11:51:46|2016-02-08 17:51:46|          41.37531|-81.82016999999998|          41.36786|         -81.82174|              0.521|At Bagley Rd/Exit...|   null|        I-71 S|   R|   Cleveland|  Cuyahoga|   OH|     44130|     US|US/Eastern|        KCLE|2016-02-08 11:51:00|          33.1|         30.0|       92.0|       29.63|           0.5|            SW|            3.5|             0.08|             Snow|  false|false|   false|   false|    true|  false|  false|     false|  false|false|          false|         false|       false|           Day|           Day|              Day|                  Day|\n",
      "| A-9|       2|2016-02-08 14:19:57|2016-02-08 20:19:57|         40.702247|        -84.075887|          40.69911|        -84.084293|              0.491|At OH-65/Exit 122...|   null| E Hanthorn Rd|   R|        Lima|     Allen|   OH|     45806|     US|US/Eastern|        KAOH|2016-02-08 13:53:00|          39.0|         31.8|       70.0|       29.59|          10.0|           WNW|           11.5|             null|         Overcast|  false|false|   false|   false|   false|  false|  false|     false|  false|false|          false|         false|       false|           Day|           Day|              Day|                  Day|\n",
      "|A-10|       2|2016-02-08 15:16:43|2016-02-08 21:16:43|          40.10931|         -82.96849|          40.11078|           -82.984|              0.826|At I-71/Exit 26 -...|   null|   Outerbelt W|   R| Westerville|  Franklin|   OH|     43081|     US|US/Eastern|        KCMH|2016-02-08 15:12:00|          32.0|         28.7|      100.0|       29.59|           0.5|          West|            3.5|             0.05|             Snow|  false|false|   false|   false|   false|  false|  false|     false|  false|false|          false|         false|       false|           Day|           Day|              Day|                  Day|\n",
      "|A-11|       2|2016-02-08 15:43:50|2016-02-08 21:43:50|          39.19288|         -84.47723|          39.19615|         -84.47335|              0.307|At OH-4/Paddock R...|   null|        I-75 N|   R|  Cincinnati|  Hamilton|   OH|     45216|     US|US/Eastern|        KLUK|2016-02-08 15:47:00|          33.8|         29.6|      100.0|       29.66|           3.0|           NNW|            4.6|             0.03|       Light Snow|  false|false|   false|   false|   false|  false|  false|     false|  false|false|          false|         false|       false|           Day|           Day|              Day|                  Day|\n",
      "|A-12|       2|2016-02-08 16:50:57|2016-02-08 22:50:57|          39.13877|         -84.53394|          39.13977|          -84.5343|0.07200000000000001|At US-52/Hopple S...|   null|     Hopple St|   R|  Cincinnati|  Hamilton|   OH|     45225|     US|US/Eastern|        KLUK|2016-02-08 16:53:00|          35.1|         32.2|       96.0|       29.69|          10.0|         South|            3.5|             null|         Overcast|  false|false|    true|   false|   false|  false|  false|     false|  false|false|          false|          true|       false|           Day|           Day|              Day|                  Day|\n",
      "|A-13|       2|2016-02-08 17:27:39|2016-02-08 23:27:39|           41.4739|        -81.704233|          41.47388|         -81.70559|               0.07|At US-42/Exit 170...|   null|        I-90 E|   R|   Cleveland|  Cuyahoga|   OH|     44113|     US|US/Eastern|        KBKL|2016-02-08 17:36:00|          33.1|         24.4|       96.0|       29.59|           1.8|          West|           11.5|              0.0|       Light Snow|  false|false|   false|   false|   false|  false|  false|     false|  false|false|          false|         false|       false|           Day|           Day|              Day|                  Day|\n",
      "|A-14|       2|2016-02-08 17:30:18|2016-02-08 23:30:18|         39.582242|        -83.677814|         39.603013|-83.63731899999998|               2.59|Between OH-72/Exi...|   null|        I-71 N|   R|   Jamestown|    Greene|   OH|     45335|     US|US/Eastern|        KSGH|2016-02-08 17:28:00|          33.8|         28.6|       93.0|       29.64|           1.0|          West|            5.8|             0.01|       Light Snow|  false|false|   false|   false|   false|  false|  false|     false|  false|false|          false|         false|       false|           Day|           Day|              Day|                  Day|\n",
      "|A-15|       3|2016-02-08 18:11:11|2016-02-09 00:11:11|         40.151785|        -81.312635|         40.151747|        -81.312682|              0.004|At Shipley Rd - A...|48999.0|      Titus Rd|   R|    Freeport|  Guernsey|   OH|     43973|     US|US/Eastern|        KPHD|2016-02-08 18:23:00|          33.1|         null|       92.0|       29.62|          10.0|          Calm|           null|             null|    Mostly Cloudy|  false|false|   false|   false|   false|  false|  false|     false|  false|false|          false|         false|       false|         Night|           Day|              Day|                  Day|\n",
      "|A-16|       3|2016-02-08 18:11:11|2016-02-09 00:11:11|         40.151747|        -81.312682|         40.151785|        -81.312635|              0.004|At Titus Rd - Acc...|22549.0|      Cadiz Rd|   L|    Freeport|  Harrison|   OH|43973-8626|     US|US/Eastern|        KPHD|2016-02-08 18:23:00|          33.1|         null|       92.0|       29.62|          10.0|          Calm|           null|             null|    Mostly Cloudy|  false|false|   false|   false|   false|  false|  false|     false|  false|false|          false|         false|       false|         Night|           Day|              Day|                  Day|\n",
      "|A-17|       3|2016-02-08 19:47:42|2016-02-09 01:47:42|39.972409999999996|         -82.84695|          39.98529|         -82.85667|              1.028|At OH-16/Broad St...|   null|   Outerbelt N|   R|    Columbus|  Franklin|   OH|     43213|     US|US/Eastern|        KCMH|2016-02-08 19:51:00|          34.0|         null|      100.0|       29.65|           6.0|          Calm|           null|             0.07|         Overcast|  false|false|   false|   false|   false|  false|  false|     false|  false|false|          false|         false|       false|         Night|         Night|            Night|                Night|\n",
      "|A-18|       2|2016-02-08 19:47:42|2016-02-09 01:47:42|           39.9838|-82.85656999999998|           39.9725|         -82.84746| 0.9179999999999999|At I-270 - Accident.|   null|   Outerbelt S|   R|    Columbus|  Franklin|   OH|     43213|     US|US/Eastern|        KCMH|2016-02-08 19:51:00|          34.0|         null|      100.0|       29.65|           6.0|          Calm|           null|             0.07|         Overcast|  false|false|   false|   false|   false|  false|  false|     false|  false|false|          false|         false|       false|         Night|         Night|            Night|                Night|\n",
      "|A-19|       3|2016-02-08 20:13:22|2016-02-09 02:13:22|          40.02664|          -82.9944|          40.01228|         -82.99218| 0.9990000000000001|Between Weber Rd/...|   null|   North Fwy S|   R|    Columbus|  Franklin|   OH|     43224|     US|US/Eastern|        KCMH|2016-02-08 20:12:00|          33.8|         27.0|      100.0|       29.63|           1.0|          West|            8.1|              0.0|       Light Snow|  false|false|   false|   false|   false|  false|  false|     false|  false|false|          false|         false|       false|         Night|         Night|            Night|                Night|\n",
      "|A-20|       4|2016-02-08 21:00:17|2016-02-09 03:00:17|         41.679361|        -83.573037|41.666123999999996|        -83.566335|              0.978|Closed between I-...|   null|        I-75 S|   R|      Toledo|     Lucas|   OH|     43610|     US|US/Eastern|        KDUH|2016-02-08 20:55:00|          33.4|         26.6|       79.0|       29.62|          10.0|          West|            8.1|             null|         Overcast|  false|false|   false|   false|   false|  false|  false|     false|  false|false|          false|         false|       false|         Night|         Night|            Night|                Night|\n",
      "+----+--------+-------------------+-------------------+------------------+------------------+------------------+------------------+-------------------+--------------------+-------+--------------+----+------------+----------+-----+----------+-------+----------+------------+-------------------+--------------+-------------+-----------+------------+--------------+--------------+---------------+-----------------+-----------------+-------+-----+--------+--------+--------+-------+-------+----------+-------+-----+---------------+--------------+------------+--------------+--------------+-----------------+---------------------+\n",
      "only showing top 20 rows\n",
      "\n"
     ]
    }
   ],
   "source": [
    "# Show the first few records of each dataframe\n",
    "accidents_df.show()\n"
   ]
  },
  {
   "cell_type": "code",
   "execution_count": 8,
   "metadata": {},
   "outputs": [
    {
     "name": "stdout",
     "output_type": "stream",
     "text": [
      "+-------------+-------------+----------+---------------+-----------------+----------------+------------------+------------+----------------------+----------+--------------------+-----+\n",
      "|         City|        State|Median Age|Male Population|Female Population|Total Population|Number of Veterans|Foreign-born|Average Household Size|State Code|                Race|Count|\n",
      "+-------------+-------------+----------+---------------+-----------------+----------------+------------------+------------+----------------------+----------+--------------------+-----+\n",
      "|       Denver|     Colorado|      34.1|         341137|           341408|          682545|             29363|      113222|                  2.33|        CO|Black or African-...|72288|\n",
      "|        Provo|         Utah|      23.6|          56231|            59027|          115258|              2177|       10925|    3.2800000000000002|        UT|American Indian a...| 1916|\n",
      "|      Hampton|     Virginia|      35.5|          66214|            70240|          136454|             19638|        6204|                  2.48|        VA|  Hispanic or Latino| 7513|\n",
      "|   Birmingham|      Alabama|      35.6|         102122|           112789|          214911|             13212|        8258|                  2.21|        AL|               Asian| 1500|\n",
      "|      Greeley|     Colorado|      31.0|          50792|            50091|          100883|              4294|       11480|                  2.75|        CO|               White|92874|\n",
      "|Spring Valley|       Nevada|      37.0|          96808|            97147|          193955|             10644|       61072|                  2.79|        NV|  Hispanic or Latino|40374|\n",
      "|       Tustin|   California|      33.4|          39511|            41052|           80563|              2434|       25034|                  3.27|        CA|               Asian|16074|\n",
      "|  Springfield|Massachusetts|      31.8|          74744|            79592|          154336|              5723|       16226|                  2.81|        MA|American Indian a...| 2087|\n",
      "|   Fort Wayne|      Indiana|      34.7|         124815|           133329|          258144|             13539|       19146|                  2.45|        IN|Black or African-...|46319|\n",
      "|    Santa Ana|   California|      30.8|         167503|           167920|          335423|              4735|      152999|                  4.58|        CA|Black or African-...| 5813|\n",
      "|       Dayton|         Ohio|      32.8|          66631|            73966|          140597|              8465|        7381|                  2.26|        OH|American Indian a...| 2010|\n",
      "|Redondo Beach|   California|      43.0|          34855|            33330|           68185|              3014|       13536|                  2.34|        CA|American Indian a...| 1007|\n",
      "|      Shawnee|       Kansas|      40.1|          32313|            32745|           65058|              3575|        4136|                  2.64|        KS|  Hispanic or Latino| 4864|\n",
      "|    Bethlehem| Pennsylvania|      35.1|          35861|            38506|           74367|              4704|        6295|                  2.46|        PA|  Hispanic or Latino|23409|\n",
      "|     Pasadena|   California|      37.6|          67712|            74534|          142246|              4618|       40779|                  2.63|        CA|  Hispanic or Latino|52717|\n",
      "|   Somerville|Massachusetts|      31.0|          41028|            39306|           80334|              2103|       22292|                  2.43|        MA|Black or African-...| 7140|\n",
      "|       Muncie|      Indiana|      27.4|          32446|            37255|           69701|              2968|        1062|                  2.35|        IN|American Indian a...|  203|\n",
      "|       Sparks|       Nevada|      36.1|          47780|            48318|           96098|              7315|       15690|                  2.63|        NV|               Asian| 7915|\n",
      "|      Compton|   California|      30.1|          49264|            49184|           98448|               897|       30660|                  4.08|        CA|               Asian| 1732|\n",
      "|Jurupa Valley|   California|      33.8|          49430|            50884|          100314|              3833|       25338|                  3.87|        CA|  Hispanic or Latino|66525|\n",
      "+-------------+-------------+----------+---------------+-----------------+----------------+------------------+------------+----------------------+----------+--------------------+-----+\n",
      "only showing top 20 rows\n",
      "\n"
     ]
    }
   ],
   "source": [
    "demographics_df.show()\n",
    "\n"
   ]
  },
  {
   "cell_type": "code",
   "execution_count": 9,
   "metadata": {},
   "outputs": [
    {
     "name": "stdout",
     "output_type": "stream",
     "text": [
      "+-------------+-------------+---------+-----------+\n",
      "|         City|      Country| Latitude|  Longitude|\n",
      "+-------------+-------------+---------+-----------+\n",
      "|    Vancouver|       Canada| 49.24966|-123.119339|\n",
      "|     Portland|United States|45.523449|-122.676208|\n",
      "|San Francisco|United States|37.774929|-122.419418|\n",
      "|      Seattle|United States|47.606209|-122.332069|\n",
      "|  Los Angeles|United States|34.052231|-118.243683|\n",
      "|    San Diego|United States|32.715328|-117.157257|\n",
      "|    Las Vegas|United States|36.174969|-115.137222|\n",
      "|      Phoenix|United States| 33.44838|-112.074043|\n",
      "|  Albuquerque|United States|35.084492|-106.651138|\n",
      "|       Denver|United States|39.739151|-104.984703|\n",
      "|  San Antonio|United States| 29.42412| -98.493629|\n",
      "|       Dallas|United States|32.783058| -96.806671|\n",
      "|      Houston|United States|29.763281| -95.363274|\n",
      "|  Kansas City|United States|39.099731| -94.578568|\n",
      "|  Minneapolis|United States|44.979969|  -93.26384|\n",
      "|  Saint Louis|United States| 38.62727| -90.197891|\n",
      "|      Chicago|United States|41.850029| -87.650047|\n",
      "|    Nashville|United States| 36.16589| -86.784439|\n",
      "| Indianapolis|United States|39.768379| -86.158043|\n",
      "|      Atlanta|United States|33.749001| -84.387978|\n",
      "+-------------+-------------+---------+-----------+\n",
      "only showing top 20 rows\n",
      "\n"
     ]
    }
   ],
   "source": [
    "city_attributes_df.show()\n"
   ]
  },
  {
   "cell_type": "code",
   "execution_count": 10,
   "metadata": {},
   "outputs": [
    {
     "name": "stdout",
     "output_type": "stream",
     "text": [
      "+-------------------+---------+--------+-------------+-------+-----------+---------+---------+-------+-----------+------+-----------+------+-------+-----------+-----------+-----------+-------+---------+------------+-------+-------+------------+---------+-----+----------+-------+------------+--------+--------+------+---------+-----------------+-----+-----+---------+---------+\n",
      "|           datetime|Vancouver|Portland|San Francisco|Seattle|Los Angeles|San Diego|Las Vegas|Phoenix|Albuquerque|Denver|San Antonio|Dallas|Houston|Kansas City|Minneapolis|Saint Louis|Chicago|Nashville|Indianapolis|Atlanta|Detroit|Jacksonville|Charlotte|Miami|Pittsburgh|Toronto|Philadelphia|New York|Montreal|Boston|Beersheba|Tel Aviv District|Eilat|Haifa|Nahariyya|Jerusalem|\n",
      "+-------------------+---------+--------+-------------+-------+-----------+---------+---------+-------+-----------+------+-----------+------+-------+-----------+-----------+-----------+-------+---------+------------+-------+-------+------------+---------+-----+----------+-------+------------+--------+--------+------+---------+-----------------+-----+-----+---------+---------+\n",
      "|2012-10-01 12:00:00|     null|    null|         null|   null|       null|     null|     null|   null|       null|  null|       null|  null|   null|       null|       null|       null|   null|     null|        null|   null|   null|        null|     null| null|      null|   null|        null|    null|    null|  null|     null|             null| 25.0| null|     null|     null|\n",
      "|2012-10-01 13:00:00|     76.0|    81.0|         88.0|   81.0|       88.0|     82.0|     22.0|   23.0|       50.0|  62.0|       93.0|  87.0|   93.0|       71.0|       67.0|       71.0|   71.0|    100.0|        76.0|   94.0|   76.0|        88.0|     87.0| 83.0|      93.0|   82.0|        71.0|    58.0|    93.0|  68.0|     50.0|             63.0| 22.0| 51.0|     51.0|     50.0|\n",
      "|2012-10-01 14:00:00|     76.0|    80.0|         87.0|   80.0|       88.0|     81.0|     21.0|   23.0|       49.0|  62.0|       92.0|  86.0|   92.0|       70.0|       66.0|       71.0|   70.0|     99.0|        76.0|   94.0|   75.0|        87.0|     87.0| 82.0|      93.0|   81.0|        70.0|    57.0|    91.0|  68.0|     51.0|             62.0| 22.0| 51.0|     51.0|     50.0|\n",
      "|2012-10-01 15:00:00|     76.0|    80.0|         86.0|   80.0|       88.0|     81.0|     21.0|   23.0|       49.0|  62.0|       92.0|  86.0|   90.0|       70.0|       66.0|       71.0|   70.0|     99.0|        76.0|   94.0|   75.0|        87.0|     87.0| 82.0|      93.0|   79.0|        70.0|    57.0|    87.0|  68.0|     51.0|             62.0| 22.0| 51.0|     51.0|     50.0|\n",
      "|2012-10-01 16:00:00|     77.0|    80.0|         85.0|   79.0|       88.0|     81.0|     21.0|   23.0|       49.0|  62.0|       92.0|  86.0|   89.0|       70.0|       65.0|       71.0|   70.0|     99.0|        76.0|   94.0|   74.0|        87.0|     87.0| 82.0|      93.0|   77.0|        69.0|    57.0|    84.0|  68.0|     52.0|             62.0| 22.0| 51.0|     51.0|     50.0|\n",
      "|2012-10-01 17:00:00|     78.0|    79.0|         84.0|   79.0|       88.0|     80.0|     21.0|   24.0|       49.0|  63.0|       92.0|  86.0|   88.0|       69.0|       65.0|       71.0|   69.0|     99.0|        76.0|   94.0|   74.0|        86.0|     87.0| 81.0|      93.0|   76.0|        69.0|    57.0|    80.0|  68.0|     54.0|             62.0| 23.0| 51.0|     51.0|     50.0|\n",
      "|2012-10-01 18:00:00|     78.0|    79.0|         83.0|   78.0|       88.0|     80.0|     21.0|   24.0|       49.0|  63.0|       92.0|  86.0|   87.0|       69.0|       64.0|       71.0|   69.0|     98.0|        76.0|   94.0|   73.0|        86.0|     87.0| 81.0|      93.0|   74.0|        68.0|    56.0|    76.0|  68.0|     55.0|             63.0| 23.0| 51.0|     51.0|     50.0|\n",
      "|2012-10-01 19:00:00|     79.0|    78.0|         82.0|   77.0|       88.0|     80.0|     21.0|   24.0|       49.0|  63.0|       91.0|  85.0|   86.0|       69.0|       64.0|       72.0|   69.0|     98.0|        76.0|   94.0|   72.0|        85.0|     87.0| 81.0|      93.0|   72.0|        68.0|    56.0|    72.0|  68.0|     56.0|             63.0| 23.0| 51.0|     51.0|     50.0|\n",
      "|2012-10-01 20:00:00|     79.0|    78.0|         81.0|   77.0|       88.0|     79.0|     20.0|   25.0|       49.0|  64.0|       91.0|  85.0|   84.0|       68.0|       63.0|       72.0|   68.0|     98.0|        76.0|   94.0|   72.0|        85.0|     87.0| 80.0|      93.0|   70.0|        67.0|    56.0|    68.0|  68.0|     57.0|             63.0| 24.0| 51.0|     51.0|     50.0|\n",
      "|2012-10-01 21:00:00|     80.0|    77.0|         80.0|   76.0|       88.0|     79.0|     20.0|   25.0|       49.0|  64.0|       91.0|  85.0|   83.0|       68.0|       63.0|       72.0|   68.0|     97.0|        76.0|   94.0|   71.0|        84.0|     87.0| 80.0|      93.0|   69.0|        67.0|    55.0|    64.0|  68.0|     58.0|             64.0| 24.0| 51.0|     51.0|     50.0|\n",
      "|2012-10-01 22:00:00|     81.0|    77.0|         79.0|   76.0|       88.0|     78.0|     20.0|   26.0|       48.0|  65.0|       91.0|  85.0|   82.0|       68.0|       62.0|       72.0|   67.0|     97.0|        76.0|   94.0|   71.0|        84.0|     87.0| 79.0|      93.0|   67.0|        66.0|    55.0|    61.0|  68.0|     59.0|             64.0| 24.0| 51.0|     51.0|     50.0|\n",
      "|2012-10-01 23:00:00|     81.0|    77.0|         78.0|   75.0|       88.0|     78.0|     20.0|   26.0|       48.0|  65.0|       91.0|  85.0|   81.0|       67.0|       62.0|       72.0|   67.0|     97.0|        76.0|   94.0|   70.0|        84.0|     87.0| 79.0|      93.0|   65.0|        66.0|    55.0|    57.0|  68.0|     60.0|             64.0| 25.0| 51.0|     51.0|     50.0|\n",
      "|2012-10-02 00:00:00|     82.0|    76.0|         77.0|   75.0|       88.0|     78.0|     20.0|   26.0|       48.0|  65.0|       90.0|  84.0|   79.0|       67.0|       61.0|       73.0|   67.0|     97.0|        76.0|   94.0|   70.0|        83.0|     87.0| 79.0|      93.0|   63.0|        65.0|    55.0|    53.0|  68.0|     61.0|             65.0| 25.0| 51.0|     51.0|     50.0|\n",
      "|2012-10-02 01:00:00|     83.0|    76.0|         76.0|   74.0|       88.0|     77.0|     20.0|   27.0|       48.0|  66.0|       90.0|  84.0|   78.0|       67.0|       61.0|       73.0|   66.0|     96.0|        76.0|   94.0|   69.0|        83.0|     87.0| 78.0|      93.0|   61.0|        65.0|    54.0|    49.0|  68.0|     62.0|             65.0| 25.0| 51.0|     51.0|     50.0|\n",
      "|2012-10-02 02:00:00|     83.0|    75.0|         75.0|   73.0|       88.0|     77.0|     19.0|   27.0|       48.0|  66.0|       90.0|  84.0|   77.0|       66.0|       60.0|       73.0|   66.0|     96.0|        76.0|   94.0|   68.0|        82.0|     87.0| 78.0|      93.0|   60.0|        64.0|    54.0|    45.0|  68.0|     63.0|             65.0| 26.0| 51.0|     51.0|     50.0|\n",
      "|2012-10-02 03:00:00|     84.0|    75.0|         74.0|   73.0|       88.0|     77.0|     19.0|   27.0|       48.0|  66.0|       90.0|  84.0|   76.0|       66.0|       60.0|       73.0|   66.0|     96.0|        76.0|   94.0|   68.0|        82.0|     87.0| 78.0|      93.0|   58.0|        64.0|    54.0|    42.0|  68.0|     64.0|             66.0| 26.0| 51.0|     51.0|     50.0|\n",
      "|2012-10-02 04:00:00|     84.0|    75.0|         73.0|   72.0|       88.0|     76.0|     19.0|   28.0|       48.0|  67.0|       90.0|  84.0|   75.0|       66.0|       59.0|       73.0|   65.0|     95.0|        76.0|   94.0|   67.0|        82.0|     87.0| 77.0|      93.0|   56.0|        63.0|    53.0|    38.0|  68.0|     66.0|             66.0| 26.0| 51.0|     51.0|     50.0|\n",
      "|2012-10-02 05:00:00|     85.0|    74.0|         72.0|   72.0|       88.0|     76.0|     19.0|   28.0|       48.0|  67.0|       89.0|  83.0|   73.0|       65.0|       59.0|       74.0|   65.0|     95.0|        76.0|   94.0|   67.0|        81.0|     87.0| 77.0|      93.0|   54.0|        63.0|    53.0|    34.0|  68.0|     67.0|             66.0| 26.0| 51.0|     51.0|     50.0|\n",
      "|2012-10-02 06:00:00|     86.0|    74.0|         71.0|   71.0|       88.0|     75.0|     19.0|   29.0|       47.0|  68.0|       89.0|  83.0|   72.0|       65.0|       58.0|       74.0|   64.0|     95.0|        76.0|   94.0|   66.0|        81.0|     87.0| 76.0|      93.0|   53.0|        62.0|    53.0|    30.0|  68.0|     68.0|             67.0| 27.0| 51.0|     51.0|     50.0|\n",
      "|2012-10-02 07:00:00|     86.0|    73.0|         70.0|   71.0|       88.0|     75.0|     19.0|   29.0|       47.0|  68.0|       89.0|  83.0|   71.0|       65.0|       58.0|       74.0|   64.0|     95.0|        76.0|   94.0|   66.0|        80.0|     87.0| 76.0|      93.0|   51.0|        62.0|    53.0|    26.0|  68.0|     69.0|             67.0| 27.0| 51.0|     51.0|     50.0|\n",
      "+-------------------+---------+--------+-------------+-------+-----------+---------+---------+-------+-----------+------+-----------+------+-------+-----------+-----------+-----------+-------+---------+------------+-------+-------+------------+---------+-----+----------+-------+------------+--------+--------+------+---------+-----------------+-----+-----+---------+---------+\n",
      "only showing top 20 rows\n",
      "\n"
     ]
    }
   ],
   "source": [
    "humidity_df.show()\n"
   ]
  },
  {
   "cell_type": "code",
   "execution_count": 11,
   "metadata": {},
   "outputs": [
    {
     "name": "stdout",
     "output_type": "stream",
     "text": [
      "+-------------------+-------------+-------------+-------------+-------------+-------------+-------------+-------------+-------------+-------------+-------------+-------------+-------------+-------------+-------------+-------------+-------------+-------------+-------------+-------------+-------------+-------------+-------------+-------------+-------------+-------------+-------------+-------------+-------------+-------------+-------------+-------------+-----------------+-------------+-----+---------+---------+\n",
      "|           datetime|    Vancouver|     Portland|San Francisco|      Seattle|  Los Angeles|    San Diego|    Las Vegas|      Phoenix|  Albuquerque|       Denver|  San Antonio|       Dallas|      Houston|  Kansas City|  Minneapolis|  Saint Louis|      Chicago|    Nashville| Indianapolis|      Atlanta|      Detroit| Jacksonville|    Charlotte|        Miami|   Pittsburgh|      Toronto| Philadelphia|     New York|     Montreal|       Boston|    Beersheba|Tel Aviv District|        Eilat|Haifa|Nahariyya|Jerusalem|\n",
      "+-------------------+-------------+-------------+-------------+-------------+-------------+-------------+-------------+-------------+-------------+-------------+-------------+-------------+-------------+-------------+-------------+-------------+-------------+-------------+-------------+-------------+-------------+-------------+-------------+-------------+-------------+-------------+-------------+-------------+-------------+-------------+-------------+-----------------+-------------+-----+---------+---------+\n",
      "|2012-10-01 12:00:00|         null|         null|         null|         null|         null|         null|         null|         null|         null|         null|         null|         null|         null|         null|         null|         null|         null|         null|         null|         null|         null|         null|         null|         null|         null|         null|         null|         null|         null|         null|         null|             null|        309.1| null|     null|     null|\n",
      "|2012-10-01 13:00:00|       284.63|       282.08|       289.48|        281.8|       291.87|       291.53|       293.41|        296.6|       285.12|       284.61|       289.29|       289.74|       288.27|       289.98|       286.87|       286.18|       284.01|       287.41|       283.85|       294.03|       284.03|       298.17|       288.65|       299.72|        281.0|       286.26|       285.63|       288.22|       285.83|       287.17|       307.59|           305.47|       310.58|304.4|    304.4|    303.5|\n",
      "|2012-10-01 14:00:00| 284.62904131|282.083251974|289.474992813|281.797216632|291.868185522|291.533500952|293.403141271|296.608508543|285.154558187|284.607305531|289.303648787|289.762974207|288.297575758|289.997635363|286.893635588|286.185246029|284.054690974| 287.42136028|283.889393939| 294.03534141|284.069789234|298.205229759|288.650172214|299.732517698|281.024767377|286.262540958|285.663207797| 288.24767617|285.834649953|287.186092094|       307.59|           304.31|310.495769231|304.4|    304.4|    303.5|\n",
      "|2012-10-01 15:00:00|284.626997923|282.091866475|289.460618112|281.789832606|291.862844459|291.543355079|293.392177052|296.631487354|285.233951595|  284.5999178|289.338496754|289.830766948|288.334343434|290.038150556|286.951400772|286.199194111|284.177412183|287.454636935|283.941919192|294.049702185|284.173964682|298.299595186|288.650581705| 299.76657946|281.088318736|286.269518418|285.756824139|288.326939663|285.847789539| 287.23167159|307.391512749|    304.281841331|310.411538462|304.4|    304.4|    303.5|\n",
      "|2012-10-01 16:00:00|284.624954535|282.100480976|289.446243412| 281.78244858|291.857503395|291.553209206|293.381212832|296.654466164|285.313345004| 284.59253007|289.373344722| 289.89855969|288.371111111| 290.07866575|287.009165955|286.213142193|284.300133393| 287.48791359|283.994444444|294.064062959|284.278140131|298.393960613|288.650991196|299.800641223|281.151870096|286.276495879| 285.85044048|288.406203155|285.860929124|287.277251086|307.145199718|    304.238014609|310.327307692|304.4|    304.4|    303.5|\n",
      "|2012-10-01 17:00:00|284.622911147|282.109095477|289.431868711|281.775064553|291.852162332|291.563063333|293.370248613|296.677444975|285.392738413|284.585142339|289.408192689|289.966352431|288.407878788|290.119180943|287.066931139|286.227090275|284.422854602|287.521190245|284.046969697|294.078423734| 284.38231558|298.488326039|288.651400687|299.834702986|281.215421455|286.283473339|285.944056822|288.485466648|285.874068709|287.322830583|306.898886687|    304.194187887|310.243076923|304.4|    304.4|    303.5|\n",
      "|2012-10-01 18:00:00|284.620867759|282.117709978|289.417494011|281.767680527|291.846821268| 291.57291746|293.359284393|296.700423786|285.472131822|284.577754609|289.443040656|290.034145172|288.444646465|290.159696136|287.124696323|286.241038357|284.545575811|  287.5544669|284.099494949|294.092784509|284.486491028|298.582691466|288.651810178|299.868764748|281.278972814|286.290450799|286.037673164|288.564730141|285.887208294|287.368410079|306.652573655|    304.150361165|310.158846154|304.4|    304.4|    303.5|\n",
      "|2012-10-01 19:00:00|284.618824371| 282.12632448| 289.40311931|281.760296501|291.841480205|291.582771587|293.348320173|296.723402597|285.551525231|284.570366878|289.477888623|290.101937914|288.481414141|290.200211329|287.182461507|286.254986439|284.668297021|287.587743555|284.152020202|294.107145283|284.590666477|298.677056893|288.652219669|299.902826511|281.342524173|286.297428259|286.131289506|288.643993634| 285.90034788|287.413989575|306.406260624|    304.106534443|310.074615385|304.4|    304.4|    303.5|\n",
      "|2012-10-01 20:00:00|284.616780983|282.134938981|289.388744609|281.752912474|291.836139142|291.592625714|293.337355954|296.746381407| 285.63091864|284.562979148| 289.51273659|290.169730655|288.518181818|290.240726522|287.240226691|286.268934522| 284.79101823| 287.62102021|284.204545455|294.121506058|284.694841925|298.771422319| 288.65262916|299.936888273|281.406075533|286.304405719|286.224905848|288.723257127|285.913487465|287.459569071|306.159947593|     304.06270772|309.990384615|304.4|    304.4|    303.5|\n",
      "|2012-10-01 21:00:00|284.614737595|282.143553482|289.374369909|281.745528448|291.830798078|291.602479841|293.326391734|296.769360218|285.710312049|284.555591417|289.547584558|290.237523396|288.554949495|290.281241716|287.297991875|286.282882604| 284.91373944|287.654296865|284.257070707|294.135866832|284.799017374|298.865787746|288.653038651|299.970950036|281.469626892|286.311383179|286.318522189| 288.80252062| 285.92662705|287.505148567|305.913634562|    304.018880998|309.906153846|304.4|    304.4|    303.5|\n",
      "|2012-10-01 22:00:00|284.612694207|282.152167983|289.359995208|281.738144422|291.825457015|291.612333968|293.315427514|296.792339029|285.789705458|284.548203687|289.582432525|290.305316138|288.591717172|290.321756909|287.355757058|286.296830686|285.036460649| 287.68757352| 284.30959596|294.150227607|284.903192823|298.960153173|288.653448143|300.005011799|281.533178251|286.318360639|286.412138531|288.881784113|285.939766635|287.550728063|305.667321531|    303.975054276|309.821923077|304.4|    304.4|    303.5|\n",
      "|2012-10-01 23:00:00|284.610650819|282.160782484|289.345620508|281.730760395|291.820115951|291.622188095|293.304463295|296.815317839|285.869098867|284.540815957|289.617280492|290.373108879|288.628484848|290.362272102|287.413522242|286.310778768|285.159181859|287.720850175|284.362121212|294.164588381|285.007368271|  299.0545186|288.653857634|300.039073561|281.596729611|286.325338099|286.505754873|288.961047606|285.952906221|287.596307559|305.421008499|    303.931227554|309.737692308|304.4|    304.4|    303.5|\n",
      "|2012-10-02 00:00:00|284.608607431|282.169396985|289.331245807|281.723376369|291.814774888|291.632042222|293.293499075| 296.83829665|285.948492276|284.533428226|289.652128459|290.440901621|288.665252525|290.402787295|287.471287426| 286.32472685|285.281903068| 287.75412683|284.414646465|294.178949156| 285.11154372|299.148884026|288.654267125|300.073135324| 281.66028097|286.332315559|286.599371215|289.040311099|285.966045806|287.641887055|305.174695468|    303.887400832|309.653461538|304.4|    304.4|    303.5|\n",
      "|2012-10-02 01:00:00|284.606564043|282.178011486|289.316871107|281.715992342|291.809433824|291.641896349|293.282534855|296.861275461|286.027885684|284.526040496|289.686976426|290.508694362|288.702020202|290.443302488| 287.52905261|286.338674932|285.404624277|287.787403485|284.467171717|294.193309931|285.215719168|299.243249453|288.654676616|300.107197086|281.723832329|286.339293019|286.692987557|289.119574592|285.979185391|287.687466551|304.928382437|     303.84357411|309.569230769|304.4|    304.4|    303.5|\n",
      "|2012-10-02 02:00:00|284.604520655|282.186625987|289.302496406|281.708608316|291.804092761|291.651750476|293.271570636|296.884254271|286.107279093|284.518652765|289.721824394|290.576487103|288.738787879|290.483817682|287.586817794|286.352623014|285.527345487| 287.82068014| 284.51969697|294.207670705|285.319894617| 299.33761488|288.655086107|300.141258849|281.787383688|286.346270479|286.786603898|289.198838085|285.992324977|287.733046047|304.682069406|    303.799747388|      309.485|304.4|    304.4|    303.5|\n",
      "|2012-10-02 03:00:00|284.602477267|282.195240488|289.288121706| 281.70122429|291.798751698|291.661604603|293.260606416|296.907233082|286.186672502|284.511265035|289.756672361|290.644279845|288.775555556|290.524332875|287.644582978|286.366571096|285.650066696|287.853956795|284.572222222| 294.22203148|285.424070066|299.431980306|288.655495598|300.175320611|281.850935048|286.353247939| 286.88022024|289.278101578|286.005464562|287.778625543|304.435756375|    303.755920666|309.400769231|304.4|    304.4|    303.5|\n",
      "|2012-10-02 04:00:00|284.600433879|282.203854989|289.273747005|281.693840263|291.793410634| 291.67145873|293.249642196|296.930211893|286.266065911|284.503877304|289.791520328|290.712072586|288.812323232|290.564848068|287.702348162|286.380519179|285.772787906| 287.88723345|284.624747475|294.236392254|285.528245514|299.526345733|288.655905089|300.209382374|281.914486407|286.360225399|286.973836582|289.357365071|286.018604147|287.824205039|304.189443343|    303.712093943|309.316538462|304.4|    304.4|    303.5|\n",
      "|2012-10-02 05:00:00|284.598390491| 282.21246949|289.259372305|281.686456237|291.788069571|291.681312857|293.238677977|296.953190704| 286.34545932|284.496489574|289.826368295|290.779865328|288.849090909|290.605363261|287.760113345|286.394467261|285.895509115|287.920510105|284.677272727|294.250753029|285.632420963| 299.62071116| 288.65631458|300.243444137|281.978037766|286.367202859|287.067452924|289.436628564|286.031743732|287.869784535|303.943130312|    303.668267221|309.232307692|304.4|    304.4|    303.5|\n",
      "|2012-10-02 06:00:00|284.596347103|282.221083991|289.244997604|281.679072211|291.782728507|291.691166984|293.227713757|296.976169514|286.424852729|284.489101844|289.861216262|290.847658069|288.885858586|290.645878454|287.817878529|286.408415343|286.018230325| 287.95378676| 284.72979798|294.265113803|285.736596411|299.715076586|288.656724071|300.277505899|282.041589126|286.374180319|287.161069266|289.515892057|286.044883318|287.915364031|303.696817281|    303.624440499|309.148076923|304.4|    304.4|    303.5|\n",
      "|2012-10-02 07:00:00|284.594303716|282.229698492|289.230622904|281.671688184|291.777387444|291.701021111|293.216749538|296.999148325|286.504246138|284.481714113| 289.89606423| 290.91545081|288.922626263|290.686393648|287.875643713|286.422363425|286.140951534|287.987063415|284.782323232|294.279474578| 285.84077186|299.809442013|288.657133562|300.311567662|282.105140485| 286.38115778|287.254685607|289.595155549|286.058022903|287.960943528| 303.45050425|    303.580613777|309.063846154|304.4|    304.4|    303.5|\n",
      "+-------------------+-------------+-------------+-------------+-------------+-------------+-------------+-------------+-------------+-------------+-------------+-------------+-------------+-------------+-------------+-------------+-------------+-------------+-------------+-------------+-------------+-------------+-------------+-------------+-------------+-------------+-------------+-------------+-------------+-------------+-------------+-------------+-----------------+-------------+-----+---------+---------+\n",
      "only showing top 20 rows\n",
      "\n"
     ]
    }
   ],
   "source": [
    "\n",
    "temperature_df.show()\n"
   ]
  },
  {
   "cell_type": "code",
   "execution_count": 12,
   "metadata": {},
   "outputs": [
    {
     "name": "stdout",
     "output_type": "stream",
     "text": [
      "+-------------------+-------------+----------------+-------------+----------------+------------+------------+------------+------------+------------+-------------+------------+------------+----------------+------------+----------------+------------+---------------+---------------+---------------+---------------+------------+----------------+---------------+--------------------+----------------+------------+-------------+----------+---------------+------------+---------------+-----------------+-------------+---------------+---------------+---------------+\n",
      "|           datetime|    Vancouver|        Portland|San Francisco|         Seattle| Los Angeles|   San Diego|   Las Vegas|     Phoenix| Albuquerque|       Denver| San Antonio|      Dallas|         Houston| Kansas City|     Minneapolis| Saint Louis|        Chicago|      Nashville|   Indianapolis|        Atlanta|     Detroit|    Jacksonville|      Charlotte|               Miami|      Pittsburgh|     Toronto| Philadelphia|  New York|       Montreal|      Boston|      Beersheba|Tel Aviv District|        Eilat|          Haifa|      Nahariyya|      Jerusalem|\n",
      "+-------------------+-------------+----------------+-------------+----------------+------------+------------+------------+------------+------------+-------------+------------+------------+----------------+------------+----------------+------------+---------------+---------------+---------------+---------------+------------+----------------+---------------+--------------------+----------------+------------+-------------+----------+---------------+------------+---------------+-----------------+-------------+---------------+---------------+---------------+\n",
      "|2012-10-01 12:00:00|         null|            null|         null|            null|        null|        null|        null|        null|        null|         null|        null|        null|            null|        null|            null|        null|           null|           null|           null|           null|        null|            null|           null|                null|            null|        null|         null|      null|           null|        null|           null|             null|         haze|           null|           null|           null|\n",
      "|2012-10-01 13:00:00|         mist|scattered clouds|   light rain|    sky is clear|        mist|sky is clear|sky is clear|sky is clear|sky is clear|   light rain|sky is clear|        mist|    sky is clear|sky is clear|   broken clouds|sky is clear|overcast clouds|           mist|overcast clouds|     light rain|sky is clear|scattered clouds|           mist|light intensity d...|            mist|sky is clear|broken clouds|few clouds|overcast clouds|sky is clear|   sky is clear|     sky is clear|         haze|   sky is clear|   sky is clear|   sky is clear|\n",
      "|2012-10-01 14:00:00|broken clouds|scattered clouds| sky is clear|    sky is clear|sky is clear|sky is clear|sky is clear|sky is clear|sky is clear|broken clouds|sky is clear|sky is clear|    sky is clear|sky is clear|   broken clouds|sky is clear|overcast clouds|overcast clouds|overcast clouds|overcast clouds|sky is clear|scattered clouds|overcast clouds|       broken clouds|scattered clouds|sky is clear|broken clouds|few clouds|   sky is clear|  few clouds|   sky is clear|     sky is clear|broken clouds|overcast clouds|   sky is clear|overcast clouds|\n",
      "|2012-10-01 15:00:00|broken clouds|scattered clouds| sky is clear|    sky is clear|sky is clear|sky is clear|sky is clear|sky is clear|sky is clear|broken clouds|sky is clear|sky is clear|    sky is clear|sky is clear|   broken clouds|sky is clear|overcast clouds|overcast clouds|overcast clouds|overcast clouds|sky is clear|scattered clouds|overcast clouds|       broken clouds|scattered clouds|sky is clear|broken clouds|few clouds|   sky is clear|  few clouds|overcast clouds|     sky is clear|broken clouds|overcast clouds|overcast clouds|overcast clouds|\n",
      "|2012-10-01 16:00:00|broken clouds|scattered clouds| sky is clear|    sky is clear|sky is clear|sky is clear|sky is clear|sky is clear|sky is clear|broken clouds|sky is clear|sky is clear|    sky is clear|sky is clear|   broken clouds|sky is clear|overcast clouds|overcast clouds|overcast clouds|overcast clouds|sky is clear|scattered clouds|overcast clouds|       broken clouds|scattered clouds|sky is clear|broken clouds|few clouds|   sky is clear|  few clouds|overcast clouds|     sky is clear|broken clouds|overcast clouds|overcast clouds|overcast clouds|\n",
      "|2012-10-01 17:00:00|broken clouds|scattered clouds| sky is clear|    sky is clear|sky is clear|sky is clear|sky is clear|sky is clear|sky is clear|broken clouds|sky is clear|sky is clear|      few clouds|sky is clear|   broken clouds|sky is clear|overcast clouds|overcast clouds|overcast clouds|overcast clouds|sky is clear|scattered clouds|overcast clouds|       broken clouds|scattered clouds|sky is clear|broken clouds|few clouds|   sky is clear|  few clouds|overcast clouds|     sky is clear|broken clouds|overcast clouds|overcast clouds|overcast clouds|\n",
      "|2012-10-01 18:00:00|broken clouds|scattered clouds| sky is clear|      few clouds|sky is clear|sky is clear|sky is clear|sky is clear|sky is clear|broken clouds|sky is clear|sky is clear|      few clouds|sky is clear|   broken clouds|sky is clear|overcast clouds|overcast clouds|overcast clouds|overcast clouds|sky is clear|scattered clouds|overcast clouds|       broken clouds|scattered clouds|sky is clear|broken clouds|few clouds|   sky is clear|  few clouds|overcast clouds|     sky is clear|broken clouds|overcast clouds|overcast clouds|overcast clouds|\n",
      "|2012-10-01 19:00:00|broken clouds|scattered clouds| sky is clear|      few clouds|sky is clear|sky is clear|sky is clear|sky is clear|sky is clear|broken clouds|sky is clear|sky is clear|      few clouds|sky is clear|   broken clouds|sky is clear|overcast clouds|overcast clouds|overcast clouds|overcast clouds|sky is clear|scattered clouds|overcast clouds|       broken clouds|scattered clouds|sky is clear|broken clouds|few clouds|   sky is clear|  few clouds|overcast clouds|     sky is clear|broken clouds|overcast clouds|overcast clouds|overcast clouds|\n",
      "|2012-10-01 20:00:00|broken clouds|scattered clouds| sky is clear|      few clouds|sky is clear|sky is clear|sky is clear|sky is clear|sky is clear|broken clouds|sky is clear|sky is clear|      few clouds|sky is clear|   broken clouds|sky is clear|overcast clouds|overcast clouds|overcast clouds|overcast clouds|sky is clear|scattered clouds|overcast clouds|       broken clouds|scattered clouds|sky is clear|broken clouds|few clouds|   sky is clear|  few clouds|overcast clouds|     sky is clear|broken clouds|overcast clouds|overcast clouds|overcast clouds|\n",
      "|2012-10-01 21:00:00|broken clouds|scattered clouds| sky is clear|      few clouds|sky is clear|sky is clear|sky is clear|sky is clear|sky is clear|broken clouds|sky is clear|sky is clear|      few clouds|sky is clear|   broken clouds|sky is clear|overcast clouds|overcast clouds|overcast clouds|overcast clouds|sky is clear|scattered clouds|overcast clouds|       broken clouds|scattered clouds|sky is clear|broken clouds|few clouds|   sky is clear|  few clouds|overcast clouds|     sky is clear|broken clouds|overcast clouds|overcast clouds|overcast clouds|\n",
      "|2012-10-01 22:00:00|broken clouds|scattered clouds| sky is clear|      few clouds|sky is clear|sky is clear|sky is clear|sky is clear|sky is clear|broken clouds|sky is clear|sky is clear|scattered clouds|sky is clear|   broken clouds|sky is clear|overcast clouds|overcast clouds|overcast clouds|overcast clouds|sky is clear|scattered clouds|overcast clouds|       broken clouds|scattered clouds|sky is clear|broken clouds|few clouds|   sky is clear|  few clouds|overcast clouds|     sky is clear|broken clouds|overcast clouds|overcast clouds|overcast clouds|\n",
      "|2012-10-01 23:00:00|broken clouds|scattered clouds| sky is clear|scattered clouds|sky is clear|sky is clear|sky is clear|sky is clear|sky is clear|broken clouds|sky is clear|sky is clear|scattered clouds|sky is clear|   broken clouds|sky is clear|overcast clouds|overcast clouds|overcast clouds|overcast clouds|sky is clear|scattered clouds|overcast clouds|       broken clouds|scattered clouds|sky is clear|broken clouds|few clouds|   sky is clear|  few clouds|overcast clouds|     sky is clear|broken clouds|overcast clouds|overcast clouds|overcast clouds|\n",
      "|2012-10-02 00:00:00|broken clouds|scattered clouds| sky is clear|scattered clouds|sky is clear|sky is clear|sky is clear|sky is clear|sky is clear|broken clouds|sky is clear|sky is clear|scattered clouds|sky is clear|   broken clouds|sky is clear|overcast clouds|overcast clouds|overcast clouds|overcast clouds|sky is clear|scattered clouds|overcast clouds|       broken clouds|scattered clouds|sky is clear|broken clouds|few clouds|   sky is clear|  few clouds|overcast clouds|     sky is clear|broken clouds|overcast clouds|overcast clouds|overcast clouds|\n",
      "|2012-10-02 01:00:00|broken clouds|scattered clouds| sky is clear|scattered clouds|sky is clear|sky is clear|sky is clear|sky is clear|sky is clear|broken clouds|sky is clear|sky is clear|scattered clouds|sky is clear|   broken clouds|sky is clear|overcast clouds|overcast clouds|overcast clouds|overcast clouds|sky is clear|scattered clouds|overcast clouds|       broken clouds|scattered clouds|sky is clear|broken clouds|few clouds|   sky is clear|  few clouds|overcast clouds|     sky is clear|broken clouds|overcast clouds|overcast clouds|overcast clouds|\n",
      "|2012-10-02 02:00:00|broken clouds|scattered clouds| sky is clear|scattered clouds|sky is clear|sky is clear|sky is clear|sky is clear|sky is clear|broken clouds|sky is clear|sky is clear|scattered clouds|sky is clear|   broken clouds|sky is clear|overcast clouds|overcast clouds|overcast clouds|overcast clouds|sky is clear|scattered clouds|overcast clouds|       broken clouds|scattered clouds|sky is clear|broken clouds|few clouds|   sky is clear|  few clouds|overcast clouds|     sky is clear|broken clouds|overcast clouds|overcast clouds|overcast clouds|\n",
      "|2012-10-02 03:00:00|broken clouds|scattered clouds| sky is clear|scattered clouds|sky is clear|  few clouds|sky is clear|sky is clear|sky is clear|broken clouds|sky is clear|sky is clear|scattered clouds|sky is clear|   broken clouds|sky is clear|overcast clouds|overcast clouds|overcast clouds|overcast clouds|sky is clear|scattered clouds|overcast clouds|       broken clouds|scattered clouds|sky is clear|broken clouds|few clouds|   sky is clear|  few clouds|overcast clouds|     sky is clear|broken clouds|overcast clouds|overcast clouds|overcast clouds|\n",
      "|2012-10-02 04:00:00|broken clouds|scattered clouds| sky is clear|scattered clouds|sky is clear|  few clouds|sky is clear|sky is clear|sky is clear|broken clouds|sky is clear|  few clouds|scattered clouds|sky is clear|   broken clouds|sky is clear|overcast clouds|overcast clouds|overcast clouds|overcast clouds|sky is clear|scattered clouds|overcast clouds|       broken clouds|scattered clouds|sky is clear|broken clouds|few clouds|   sky is clear|  few clouds|overcast clouds|     sky is clear|broken clouds|overcast clouds|overcast clouds|overcast clouds|\n",
      "|2012-10-02 05:00:00|broken clouds|scattered clouds| sky is clear|scattered clouds|sky is clear|  few clouds|sky is clear|sky is clear|sky is clear|broken clouds|sky is clear|  few clouds|scattered clouds|sky is clear|   broken clouds|sky is clear|overcast clouds|overcast clouds|overcast clouds|overcast clouds|sky is clear|scattered clouds|overcast clouds|       broken clouds|scattered clouds|sky is clear|broken clouds|few clouds|   sky is clear|  few clouds|overcast clouds|     sky is clear|broken clouds|overcast clouds|overcast clouds|overcast clouds|\n",
      "|2012-10-02 06:00:00|broken clouds|scattered clouds| sky is clear|scattered clouds|sky is clear|  few clouds|sky is clear|sky is clear|sky is clear|broken clouds|sky is clear|  few clouds|   broken clouds|sky is clear|   broken clouds|sky is clear|overcast clouds|overcast clouds|overcast clouds|overcast clouds|sky is clear|scattered clouds|overcast clouds|       broken clouds|scattered clouds|sky is clear|broken clouds|few clouds|   sky is clear|  few clouds|overcast clouds|     sky is clear|broken clouds|overcast clouds|overcast clouds|overcast clouds|\n",
      "|2012-10-02 07:00:00|broken clouds|scattered clouds| sky is clear|scattered clouds|sky is clear|  few clouds|sky is clear|sky is clear|sky is clear|broken clouds|sky is clear|  few clouds|   broken clouds|sky is clear|scattered clouds|sky is clear|overcast clouds|overcast clouds|overcast clouds|overcast clouds|sky is clear|      few clouds|overcast clouds|       broken clouds|scattered clouds|sky is clear|broken clouds|few clouds|   sky is clear|  few clouds|overcast clouds|     sky is clear|broken clouds|overcast clouds|overcast clouds|overcast clouds|\n",
      "+-------------------+-------------+----------------+-------------+----------------+------------+------------+------------+------------+------------+-------------+------------+------------+----------------+------------+----------------+------------+---------------+---------------+---------------+---------------+------------+----------------+---------------+--------------------+----------------+------------+-------------+----------+---------------+------------+---------------+-----------------+-------------+---------------+---------------+---------------+\n",
      "only showing top 20 rows\n",
      "\n",
      "+-------------------+---------+--------+-------------+-------+-----------+---------+---------+-------+-----------+------+-----------+------+-------+-----------+-----------+-----------+-------+---------+------------+-------+-------+------------+---------+-----+----------+-------+------------+--------+--------+------+---------+-----------------+-----+-----+---------+---------+\n",
      "|           datetime|Vancouver|Portland|San Francisco|Seattle|Los Angeles|San Diego|Las Vegas|Phoenix|Albuquerque|Denver|San Antonio|Dallas|Houston|Kansas City|Minneapolis|Saint Louis|Chicago|Nashville|Indianapolis|Atlanta|Detroit|Jacksonville|Charlotte|Miami|Pittsburgh|Toronto|Philadelphia|New York|Montreal|Boston|Beersheba|Tel Aviv District|Eilat|Haifa|Nahariyya|Jerusalem|\n",
      "+-------------------+---------+--------+-------------+-------+-----------+---------+---------+-------+-----------+------+-----------+------+-------+-----------+-----------+-----------+-------+---------+------------+-------+-------+------------+---------+-----+----------+-------+------------+--------+--------+------+---------+-----------------+-----+-----+---------+---------+\n",
      "|2012-10-01 12:00:00|     null|    null|         null|   null|       null|     null|     null|   null|       null|  null|       null|  null|   null|       null|       null|       null|   null|     null|        null|   null|   null|        null|     null| null|      null|   null|        null|    null|    null|  null|     null|             null|360.0| null|     null|     null|\n",
      "|2012-10-01 13:00:00|      0.0|     0.0|        150.0|    0.0|        0.0|      0.0|      0.0|   10.0|      360.0|  20.0|        0.0| 340.0|  270.0|        0.0|      330.0|       40.0|    0.0|     70.0|        40.0|  110.0|    0.0|       180.0|     70.0|200.0|       0.0|  240.0|       270.0|   260.0|   230.0|  60.0|    135.0|            101.0| 30.0|336.0|    336.0|    329.0|\n",
      "|2012-10-01 14:00:00|      6.0|     4.0|        147.0|    2.0|        0.0|      0.0|      8.0|    9.0|      360.0|  22.0|        5.0| 339.0|  268.0|        6.0|      329.0|       39.0|    0.0|     70.0|        40.0|  110.0|    0.0|       180.0|     70.0|200.0|       0.0|  236.0|       270.0|   260.0|   230.0|  60.0|    157.0|            315.0| 30.0|336.0|    336.0|    329.0|\n",
      "|2012-10-01 15:00:00|     20.0|    18.0|        141.0|   10.0|        0.0|      0.0|     23.0|    9.0|      360.0|  31.0|       18.0| 338.0|  265.0|       20.0|      329.0|       38.0|    0.0|     70.0|        40.0|  111.0|    0.0|       180.0|     71.0|200.0|       0.0|  226.0|       271.0|   260.0|   231.0|  60.0|    157.0|            307.0| 30.0|336.0|    336.0|    329.0|\n",
      "|2012-10-01 16:00:00|     34.0|    31.0|        135.0|   17.0|        0.0|      0.0|     37.0|    9.0|      360.0|  39.0|       31.0| 337.0|  263.0|       34.0|      329.0|       37.0|    0.0|     70.0|        40.0|  111.0|    0.0|       180.0|     71.0|200.0|       0.0|  216.0|       272.0|   260.0|   233.0|  60.0|    157.0|            294.0| 30.0|336.0|    336.0|    329.0|\n",
      "|2012-10-01 17:00:00|     47.0|    44.0|        129.0|   24.0|        0.0|      0.0|     51.0|    8.0|      360.0|  47.0|       44.0| 335.0|  260.0|       49.0|      328.0|       35.0|    0.0|     70.0|        40.0|  112.0|    1.0|       180.0|     72.0|200.0|       0.0|  206.0|       274.0|   261.0|   234.0|  61.0|    157.0|            282.0| 30.0|336.0|    336.0|    329.0|\n",
      "|2012-10-01 18:00:00|     61.0|    57.0|        123.0|   32.0|        0.0|      0.0|     65.0|    8.0|      360.0|  55.0|       57.0| 334.0|  258.0|       63.0|      328.0|       34.0|    0.0|     70.0|        40.0|  113.0|    1.0|       180.0|     73.0|200.0|       0.0|  197.0|       275.0|   261.0|   236.0|  61.0|    157.0|            269.0| 30.0|336.0|    336.0|    329.0|\n",
      "|2012-10-01 19:00:00|     75.0|    70.0|        117.0|   39.0|        0.0|      0.0|     79.0|    7.0|      360.0|  64.0|       70.0| 333.0|  256.0|       77.0|      327.0|       33.0|    0.0|     70.0|        40.0|  114.0|    2.0|       180.0|     74.0|200.0|       0.0|  187.0|       276.0|   262.0|   237.0|  62.0|    157.0|            257.0| 30.0|336.0|    336.0|    329.0|\n",
      "|2012-10-01 20:00:00|     89.0|    83.0|        110.0|   47.0|        0.0|      0.0|     94.0|    7.0|      360.0|  72.0|       83.0| 332.0|  253.0|       92.0|      327.0|       32.0|    0.0|     70.0|        40.0|  115.0|    2.0|       180.0|     75.0|200.0|       0.0|  177.0|       277.0|   262.0|   238.0|  62.0|    157.0|            245.0| 30.0|336.0|    336.0|    329.0|\n",
      "|2012-10-01 21:00:00|    102.0|    96.0|        104.0|   54.0|        0.0|      0.0|    108.0|    6.0|      360.0|  80.0|       96.0| 330.0|  251.0|      106.0|      326.0|       30.0|    0.0|     70.0|        40.0|  116.0|    3.0|       180.0|     76.0|200.0|       0.0|  167.0|       279.0|   263.0|   240.0|  63.0|    157.0|            232.0| 30.0|336.0|    336.0|    329.0|\n",
      "|2012-10-01 22:00:00|    116.0|   109.0|         98.0|   61.0|        0.0|      0.0|    122.0|    6.0|      360.0|  88.0|      110.0| 329.0|  248.0|      120.0|      326.0|       29.0|    0.0|     70.0|        40.0|  116.0|    3.0|       180.0|     76.0|200.0|       0.0|  157.0|       280.0|   263.0|   241.0|  63.0|    157.0|            220.0| 30.0|336.0|    336.0|    329.0|\n",
      "|2012-10-01 23:00:00|    130.0|   123.0|         92.0|   69.0|        0.0|      0.0|    136.0|    6.0|      360.0|  96.0|      123.0| 328.0|  246.0|      135.0|      326.0|       28.0|    0.0|     70.0|        40.0|  117.0|    3.0|       180.0|     77.0|200.0|       0.0|  147.0|       281.0|   263.0|   243.0|  63.0|    157.0|            208.0| 30.0|336.0|    336.0|    329.0|\n",
      "|2012-10-02 00:00:00|    144.0|   136.0|         86.0|   76.0|        0.0|      0.0|    151.0|    5.0|      360.0| 105.0|      136.0| 327.0|  243.0|      149.0|      325.0|       27.0|    0.0|     70.0|        40.0|  118.0|    4.0|       180.0|     78.0|200.0|       0.0|  137.0|       282.0|   264.0|   244.0|  64.0|    157.0|            195.0| 30.0|336.0|    336.0|    329.0|\n",
      "|2012-10-02 01:00:00|    157.0|   149.0|         80.0|   84.0|        0.0|      0.0|    165.0|    5.0|      360.0| 113.0|      149.0| 326.0|  241.0|      163.0|      325.0|       25.0|    0.0|     70.0|        40.0|  119.0|    4.0|       180.0|     79.0|200.0|       0.0|  128.0|       283.0|   264.0|   245.0|  64.0|    157.0|            183.0| 30.0|336.0|    336.0|    329.0|\n",
      "|2012-10-02 02:00:00|    171.0|   162.0|         73.0|   91.0|        0.0|      0.0|    179.0|    4.0|      360.0| 121.0|      162.0| 324.0|  239.0|      178.0|      324.0|       24.0|    0.0|     70.0|        40.0|  120.0|    5.0|       180.0|     80.0|200.0|       0.0|  118.0|       285.0|   265.0|   247.0|  65.0|    157.0|            170.0| 30.0|336.0|    336.0|    329.0|\n",
      "|2012-10-02 03:00:00|    185.0|   175.0|         67.0|   98.0|        0.0|      0.0|    193.0|    4.0|      360.0| 129.0|      175.0| 323.0|  236.0|      192.0|      324.0|       23.0|    0.0|     70.0|        40.0|  120.0|    5.0|       180.0|     80.0|200.0|       0.0|  108.0|       286.0|   265.0|   248.0|  65.0|    157.0|            158.0| 30.0|336.0|    336.0|    329.0|\n",
      "|2012-10-02 04:00:00|    199.0|   188.0|         61.0|  106.0|        0.0|      0.0|    207.0|    4.0|      360.0| 137.0|      188.0| 322.0|  234.0|      206.0|      324.0|       22.0|    0.0|     70.0|        40.0|  121.0|    5.0|       180.0|     81.0|200.0|       0.0|   98.0|       287.0|   265.0|   250.0|  65.0|    157.0|            146.0| 30.0|336.0|    336.0|    329.0|\n",
      "|2012-10-02 05:00:00|    213.0|   201.0|         55.0|  113.0|        0.0|      0.0|    222.0|    3.0|      360.0| 146.0|      201.0| 321.0|  231.0|      221.0|      323.0|       21.0|    0.0|     70.0|        40.0|  122.0|    6.0|       180.0|     82.0|200.0|       0.0|   88.0|       288.0|   266.0|   251.0|  66.0|    157.0|            133.0| 30.0|336.0|    336.0|    329.0|\n",
      "|2012-10-02 06:00:00|    226.0|   214.0|         49.0|  120.0|        0.0|      0.0|    236.0|    3.0|      360.0| 154.0|      215.0| 319.0|  229.0|      235.0|      323.0|       19.0|    0.0|     70.0|        40.0|  123.0|    6.0|       180.0|     83.0|200.0|       0.0|   78.0|       290.0|   266.0|   252.0|  66.0|    157.0|            121.0| 30.0|336.0|    336.0|    329.0|\n",
      "|2012-10-02 07:00:00|    240.0|   228.0|         43.0|  128.0|        0.0|      0.0|    250.0|    2.0|      360.0| 162.0|      228.0| 318.0|  226.0|      249.0|      322.0|       18.0|    0.0|     70.0|        40.0|  124.0|    7.0|       180.0|     84.0|200.0|       0.0|   68.0|       291.0|   267.0|   254.0|  67.0|    157.0|            109.0| 30.0|336.0|    336.0|    329.0|\n",
      "+-------------------+---------+--------+-------------+-------+-----------+---------+---------+-------+-----------+------+-----------+------+-------+-----------+-----------+-----------+-------+---------+------------+-------+-------+------------+---------+-----+----------+-------+------------+--------+--------+------+---------+-----------------+-----+-----+---------+---------+\n",
      "only showing top 20 rows\n",
      "\n",
      "+-------------------+---------+--------+-------------+-------+-----------+---------+---------+-------+-----------+------+-----------+------+-------+-----------+-----------+-----------+-------+---------+------------+-------+-------+------------+---------+-----+----------+-------+------------+--------+--------+------+---------+-----------------+-----+-----+---------+---------+\n",
      "|           datetime|Vancouver|Portland|San Francisco|Seattle|Los Angeles|San Diego|Las Vegas|Phoenix|Albuquerque|Denver|San Antonio|Dallas|Houston|Kansas City|Minneapolis|Saint Louis|Chicago|Nashville|Indianapolis|Atlanta|Detroit|Jacksonville|Charlotte|Miami|Pittsburgh|Toronto|Philadelphia|New York|Montreal|Boston|Beersheba|Tel Aviv District|Eilat|Haifa|Nahariyya|Jerusalem|\n",
      "+-------------------+---------+--------+-------------+-------+-----------+---------+---------+-------+-----------+------+-----------+------+-------+-----------+-----------+-----------+-------+---------+------------+-------+-------+------------+---------+-----+----------+-------+------------+--------+--------+------+---------+-----------------+-----+-----+---------+---------+\n",
      "|2012-10-01 12:00:00|     null|    null|         null|   null|       null|     null|     null|   null|       null|  null|       null|  null|   null|       null|       null|       null|   null|     null|        null|   null|   null|        null|     null| null|      null|   null|        null|    null|    null|  null|     null|             null|  8.0| null|     null|     null|\n",
      "|2012-10-01 13:00:00|      0.0|     0.0|          2.0|    0.0|        0.0|      0.0|      0.0|    2.0|        4.0|   4.0|        0.0|   3.0|    1.0|        0.0|        3.0|        4.0|    0.0|      4.0|         4.0|    3.0|    0.0|         3.0|      4.0|  3.0|       0.0|    3.0|         4.0|     7.0|     4.0|   3.0|      1.0|              0.0|  8.0|  2.0|      2.0|      2.0|\n",
      "|2012-10-01 14:00:00|      0.0|     0.0|          2.0|    0.0|        0.0|      0.0|      0.0|    2.0|        4.0|   4.0|        0.0|   3.0|    1.0|        0.0|        3.0|        4.0|    0.0|      4.0|         4.0|    3.0|    0.0|         3.0|      4.0|  3.0|       0.0|    3.0|         4.0|     7.0|     4.0|   3.0|      3.0|              0.0|  8.0|  2.0|      2.0|      2.0|\n",
      "|2012-10-01 15:00:00|      0.0|     0.0|          2.0|    0.0|        0.0|      0.0|      0.0|    2.0|        4.0|   3.0|        0.0|   3.0|    1.0|        0.0|        3.0|        4.0|    0.0|      4.0|         4.0|    3.0|    0.0|         3.0|      4.0|  3.0|       0.0|    3.0|         3.0|     7.0|     4.0|   3.0|      3.0|              0.0|  8.0|  2.0|      2.0|      2.0|\n",
      "|2012-10-01 16:00:00|      0.0|     0.0|          2.0|    0.0|        0.0|      0.0|      0.0|    2.0|        4.0|   3.0|        0.0|   3.0|    1.0|        0.0|        3.0|        3.0|    0.0|      4.0|         4.0|    3.0|    0.0|         3.0|      4.0|  3.0|       0.0|    3.0|         3.0|     7.0|     4.0|   3.0|      3.0|              0.0|  8.0|  2.0|      2.0|      2.0|\n",
      "|2012-10-01 17:00:00|      0.0|     0.0|          2.0|    0.0|        0.0|      0.0|      0.0|    2.0|        4.0|   3.0|        0.0|   3.0|    1.0|        0.0|        3.0|        3.0|    0.0|      4.0|         4.0|    3.0|    0.0|         3.0|      4.0|  3.0|       0.0|    3.0|         3.0|     6.0|     3.0|   3.0|      3.0|              0.0|  8.0|  2.0|      2.0|      2.0|\n",
      "|2012-10-01 18:00:00|      0.0|     0.0|          2.0|    0.0|        0.0|      0.0|      0.0|    2.0|        4.0|   3.0|        0.0|   3.0|    2.0|        0.0|        3.0|        3.0|    0.0|      4.0|         4.0|    3.0|    0.0|         3.0|      4.0|  3.0|       0.0|    3.0|         3.0|     6.0|     3.0|   3.0|      3.0|              0.0|  8.0|  2.0|      2.0|      2.0|\n",
      "|2012-10-01 19:00:00|      0.0|     0.0|          2.0|    0.0|        0.0|      0.0|      0.0|    2.0|        4.0|   3.0|        0.0|   3.0|    2.0|        0.0|        3.0|        3.0|    0.0|      4.0|         4.0|    3.0|    0.0|         3.0|      4.0|  4.0|       0.0|    3.0|         3.0|     6.0|     3.0|   3.0|      2.0|              1.0|  8.0|  2.0|      2.0|      2.0|\n",
      "|2012-10-01 20:00:00|      0.0|     0.0|          1.0|    0.0|        0.0|      0.0|      0.0|    1.0|        4.0|   3.0|        0.0|   3.0|    2.0|        0.0|        3.0|        3.0|    0.0|      4.0|         4.0|    3.0|    0.0|         3.0|      4.0|  4.0|       0.0|    3.0|         3.0|     6.0|     3.0|   3.0|      2.0|              1.0|  8.0|  2.0|      2.0|      2.0|\n",
      "|2012-10-01 21:00:00|      0.0|     0.0|          1.0|    0.0|        0.0|      0.0|      0.0|    1.0|        4.0|   3.0|        0.0|   3.0|    2.0|        0.0|        3.0|        3.0|    0.0|      4.0|         4.0|    3.0|    0.0|         3.0|      4.0|  4.0|       0.0|    3.0|         3.0|     6.0|     3.0|   3.0|      2.0|              1.0|  8.0|  2.0|      2.0|      2.0|\n",
      "|2012-10-01 22:00:00|      0.0|     0.0|          1.0|    0.0|        0.0|      0.0|      0.0|    1.0|        4.0|   3.0|        0.0|   3.0|    2.0|        0.0|        3.0|        3.0|    0.0|      4.0|         4.0|    3.0|    0.0|         3.0|      4.0|  4.0|       0.0|    3.0|         3.0|     6.0|     3.0|   3.0|      2.0|              1.0|  8.0|  2.0|      2.0|      2.0|\n",
      "|2012-10-01 23:00:00|      0.0|     0.0|          1.0|    0.0|        0.0|      0.0|      0.0|    1.0|        4.0|   3.0|        0.0|   3.0|    2.0|        1.0|        3.0|        3.0|    0.0|      4.0|         4.0|    3.0|    0.0|         3.0|      4.0|  4.0|       0.0|    3.0|         3.0|     6.0|     2.0|   3.0|      2.0|              1.0|  8.0|  2.0|      2.0|      2.0|\n",
      "|2012-10-02 00:00:00|      0.0|     0.0|          1.0|    0.0|        0.0|      0.0|      0.0|    1.0|        4.0|   3.0|        0.0|   3.0|    2.0|        1.0|        4.0|        3.0|    0.0|      4.0|         4.0|    3.0|    0.0|         3.0|      4.0|  4.0|       0.0|    3.0|         2.0|     6.0|     2.0|   3.0|      2.0|              1.0|  8.0|  2.0|      2.0|      2.0|\n",
      "|2012-10-02 01:00:00|      0.0|     0.0|          1.0|    0.0|        0.0|      0.0|      0.0|    1.0|        4.0|   3.0|        0.0|   3.0|    2.0|        1.0|        4.0|        3.0|    0.0|      4.0|         4.0|    3.0|    0.0|         3.0|      4.0|  4.0|       0.0|    3.0|         2.0|     6.0|     2.0|   3.0|      2.0|              1.0|  8.0|  2.0|      2.0|      2.0|\n",
      "|2012-10-02 02:00:00|      0.0|     1.0|          1.0|    0.0|        0.0|      0.0|      1.0|    1.0|        4.0|   3.0|        0.0|   3.0|    3.0|        1.0|        4.0|        3.0|    0.0|      4.0|         4.0|    3.0|    0.0|         3.0|      4.0|  4.0|       0.0|    3.0|         2.0|     6.0|     2.0|   3.0|      2.0|              1.0|  9.0|  2.0|      2.0|      2.0|\n",
      "|2012-10-02 03:00:00|      0.0|     1.0|          1.0|    0.0|        0.0|      0.0|      1.0|    1.0|        4.0|   3.0|        0.0|   3.0|    3.0|        1.0|        4.0|        3.0|    0.0|      4.0|         4.0|    3.0|    0.0|         3.0|      4.0|  4.0|       0.0|    3.0|         2.0|     6.0|     2.0|   3.0|      2.0|              2.0|  9.0|  2.0|      2.0|      2.0|\n",
      "|2012-10-02 04:00:00|      0.0|     1.0|          1.0|    0.0|        0.0|      0.0|      1.0|    1.0|        4.0|   2.0|        0.0|   3.0|    3.0|        1.0|        4.0|        3.0|    0.0|      4.0|         4.0|    3.0|    0.0|         3.0|      4.0|  4.0|       0.0|    3.0|         2.0|     6.0|     1.0|   3.0|      2.0|              2.0|  9.0|  2.0|      2.0|      2.0|\n",
      "|2012-10-02 05:00:00|      0.0|     1.0|          0.0|    0.0|        0.0|      0.0|      1.0|    0.0|        4.0|   2.0|        0.0|   3.0|    3.0|        1.0|        4.0|        3.0|    0.0|      4.0|         4.0|    3.0|    0.0|         3.0|      4.0|  4.0|       0.0|    3.0|         2.0|     6.0|     1.0|   3.0|      2.0|              2.0|  9.0|  2.0|      2.0|      2.0|\n",
      "|2012-10-02 06:00:00|      0.0|     1.0|          0.0|    0.0|        0.0|      0.0|      1.0|    0.0|        4.0|   2.0|        1.0|   3.0|    3.0|        1.0|        4.0|        3.0|    0.0|      4.0|         4.0|    3.0|    1.0|         3.0|      4.0|  5.0|       0.0|    3.0|         2.0|     6.0|     1.0|   3.0|      2.0|              2.0|  9.0|  2.0|      2.0|      2.0|\n",
      "|2012-10-02 07:00:00|      0.0|     1.0|          0.0|    0.0|        0.0|      0.0|      1.0|    0.0|        4.0|   2.0|        1.0|   3.0|    3.0|        1.0|        4.0|        3.0|    0.0|      4.0|         4.0|    3.0|    1.0|         3.0|      4.0|  5.0|       0.0|    3.0|         2.0|     6.0|     1.0|   3.0|      2.0|              2.0|  9.0|  2.0|      2.0|      2.0|\n",
      "+-------------------+---------+--------+-------------+-------+-----------+---------+---------+-------+-----------+------+-----------+------+-------+-----------+-----------+-----------+-------+---------+------------+-------+-------+------------+---------+-----+----------+-------+------------+--------+--------+------+---------+-----------------+-----+-----+---------+---------+\n",
      "only showing top 20 rows\n",
      "\n",
      "+-------------------+---------+--------+-------------+-------+-----------+---------+---------+-------+-----------+------+-----------+------+-------+-----------+-----------+-----------+-------+---------+------------+-------+-------+------------+---------+------+----------+-------+------------+--------+--------+------+---------+-----------------+------+------+---------+---------+\n",
      "|           datetime|Vancouver|Portland|San Francisco|Seattle|Los Angeles|San Diego|Las Vegas|Phoenix|Albuquerque|Denver|San Antonio|Dallas|Houston|Kansas City|Minneapolis|Saint Louis|Chicago|Nashville|Indianapolis|Atlanta|Detroit|Jacksonville|Charlotte| Miami|Pittsburgh|Toronto|Philadelphia|New York|Montreal|Boston|Beersheba|Tel Aviv District| Eilat| Haifa|Nahariyya|Jerusalem|\n",
      "+-------------------+---------+--------+-------------+-------+-----------+---------+---------+-------+-----------+------+-----------+------+-------+-----------+-----------+-----------+-------+---------+------------+-------+-------+------------+---------+------+----------+-------+------------+--------+--------+------+---------+-----------------+------+------+---------+---------+\n",
      "|2012-10-01 12:00:00|     null|    null|         null|   null|       null|     null|     null|   null|       null|  null|       null|  null|   null|       null|       null|       null|   null|     null|        null|   null|   null|        null|     null|  null|      null|   null|        null|    null|    null|  null|     null|             null|1011.0|  null|     null|     null|\n",
      "|2012-10-01 13:00:00|     null|  1024.0|       1009.0| 1027.0|     1013.0|   1013.0|   1018.0| 1013.0|     1024.0|1028.0|     1014.0|1011.0| 1009.0|     1011.0|     1012.0|     1010.0| 1014.0|   1005.0|      1011.0| 1006.0| 1016.0|      1009.0|   1012.0|1011.0|    1015.0| 1012.0|      1014.0|  1012.0|  1001.0|1014.0|    984.0|           1012.0|1010.0|1013.0|   1013.0|    990.0|\n",
      "|2012-10-01 14:00:00|     null|  1024.0|       1009.0| 1027.0|     1013.0|   1013.0|   1018.0| 1013.0|     1024.0|1028.0|     1014.0|1011.0| 1008.0|     1011.0|     1012.0|     1010.0| 1014.0|   1004.0|      1011.0| 1006.0| 1015.0|      1009.0|   1012.0|1011.0|    1015.0| 1011.0|      1014.0|  1012.0|   986.0|1014.0|    984.0|           1012.0|1010.0|1013.0|   1013.0|    990.0|\n",
      "|2012-10-01 15:00:00|     null|  1024.0|       1009.0| 1028.0|     1013.0|   1013.0|   1018.0| 1013.0|     1024.0|1028.0|     1014.0|1011.0| 1008.0|     1011.0|     1012.0|     1010.0| 1014.0|   1004.0|      1011.0| 1006.0| 1015.0|      1009.0|   1012.0|1011.0|    1015.0| 1011.0|      1014.0|  1012.0|   945.0|1014.0|    984.0|           1012.0|1010.0|1013.0|   1013.0|    990.0|\n",
      "|2012-10-01 16:00:00|     null|  1024.0|       1009.0| 1028.0|     1013.0|   1013.0|   1018.0| 1013.0|     1024.0|1028.0|     1014.0|1011.0| 1008.0|     1011.0|     1012.0|     1010.0| 1014.0|   1004.0|      1011.0| 1006.0| 1015.0|      1009.0|   1012.0|1011.0|    1015.0| 1010.0|      1014.0|  1012.0|   904.0|1014.0|    984.0|           1012.0|1010.0|1013.0|   1013.0|    990.0|\n",
      "|2012-10-01 17:00:00|     null|  1024.0|       1009.0| 1029.0|     1013.0|   1013.0|   1018.0| 1013.0|     1024.0|1028.0|     1014.0|1011.0| 1008.0|     1011.0|     1012.0|     1010.0| 1014.0|   1004.0|      1011.0| 1006.0| 1015.0|      1009.0|   1012.0|1011.0|    1015.0| 1010.0|      1014.0|  1012.0|   863.0|1014.0|    984.0|           1012.0|1010.0|1013.0|   1013.0|    990.0|\n",
      "|2012-10-01 18:00:00|     null|  1024.0|       1010.0| 1030.0|     1013.0|   1013.0|   1018.0| 1013.0|     1024.0|1028.0|     1014.0|1011.0| 1008.0|     1011.0|     1012.0|     1010.0| 1014.0|   1004.0|      1011.0| 1006.0| 1015.0|      1009.0|   1012.0|1011.0|    1015.0| 1009.0|      1014.0|  1012.0|   822.0|1014.0|    984.0|           1012.0|1010.0|1013.0|   1013.0|    990.0|\n",
      "|2012-10-01 19:00:00|     null|  1024.0|       1010.0| 1031.0|     1013.0|   1013.0|   1018.0| 1013.0|     1024.0|1028.0|     1014.0|1011.0| 1008.0|     1011.0|     1012.0|     1010.0| 1014.0|   1004.0|      1011.0| 1006.0| 1015.0|      1009.0|   1012.0|1011.0|    1015.0| 1009.0|      1014.0|  1012.0|    null|1014.0|    984.0|           1012.0|1010.0|1013.0|   1013.0|    990.0|\n",
      "|2012-10-01 20:00:00|     null|  1024.0|       1010.0| 1031.0|     1013.0|   1013.0|   1018.0| 1013.0|     1024.0|1028.0|     1014.0|1011.0| 1008.0|     1011.0|     1012.0|     1010.0| 1014.0|   1004.0|      1011.0| 1006.0| 1015.0|      1009.0|   1012.0|1011.0|    1015.0| 1008.0|      1014.0|  1012.0|    null|1014.0|    984.0|           1012.0|1010.0|1013.0|   1013.0|    990.0|\n",
      "|2012-10-01 21:00:00|     null|  1024.0|       1010.0| 1032.0|     1013.0|   1013.0|   1018.0| 1013.0|     1024.0|1028.0|     1014.0|1011.0| 1008.0|     1011.0|     1012.0|     1010.0| 1014.0|   1004.0|      1011.0| 1006.0| 1015.0|      1009.0|   1012.0|1011.0|    1015.0| 1008.0|      1014.0|  1012.0|    null|1014.0|    984.0|           1012.0|1010.0|1013.0|   1013.0|    990.0|\n",
      "|2012-10-01 22:00:00|     null|  1024.0|       1011.0| 1033.0|     1013.0|   1013.0|   1018.0| 1013.0|     1024.0|1028.0|     1014.0|1011.0| 1008.0|     1011.0|     1012.0|     1010.0| 1014.0|   1004.0|      1011.0| 1006.0| 1015.0|      1009.0|   1012.0|1011.0|    1015.0| 1007.0|      1014.0|  1012.0|    null|1014.0|    984.0|           1012.0|1010.0|1013.0|   1013.0|    990.0|\n",
      "|2012-10-01 23:00:00|     null|  1024.0|       1011.0| 1034.0|     1013.0|   1013.0|   1018.0| 1013.0|     1024.0|1028.0|     1014.0|1011.0| 1008.0|     1011.0|     1012.0|     1010.0| 1014.0|   1004.0|      1011.0| 1006.0| 1015.0|      1009.0|   1012.0|1011.0|    1015.0| 1007.0|      1014.0|  1012.0|    null|1014.0|    984.0|           1012.0|1010.0|1013.0|   1013.0|    990.0|\n",
      "|2012-10-02 00:00:00|     null|  1024.0|       1011.0| 1035.0|     1013.0|   1013.0|   1018.0| 1013.0|     1024.0|1028.0|     1014.0|1011.0| 1008.0|     1011.0|     1012.0|     1010.0| 1014.0|   1004.0|      1011.0| 1006.0| 1015.0|      1009.0|   1012.0|1011.0|    1015.0| 1006.0|      1014.0|  1012.0|    null|1014.0|    984.0|           1012.0|1010.0|1013.0|   1013.0|    990.0|\n",
      "|2012-10-02 01:00:00|     null|  1024.0|       1011.0| 1035.0|     1013.0|   1013.0|   1018.0| 1013.0|     1024.0|1028.0|     1014.0|1011.0| 1008.0|     1011.0|     1012.0|     1010.0| 1014.0|   1004.0|      1011.0| 1006.0| 1015.0|      1009.0|   1012.0|1011.0|    1015.0| 1006.0|      1014.0|  1012.0|    null|1014.0|    984.0|           1012.0|1010.0|1013.0|   1013.0|    990.0|\n",
      "|2012-10-02 02:00:00|     null|  1024.0|       1012.0| 1036.0|     1013.0|   1013.0|   1018.0| 1013.0|     1024.0|1028.0|     1014.0|1011.0| 1008.0|     1011.0|     1012.0|     1010.0| 1014.0|   1004.0|      1011.0| 1006.0| 1015.0|      1009.0|   1012.0|1011.0|    1015.0| 1005.0|      1014.0|  1012.0|    null|1014.0|    984.0|           1012.0|1010.0|1013.0|   1013.0|    990.0|\n",
      "|2012-10-02 03:00:00|     null|  1024.0|       1012.0| 1037.0|     1013.0|   1013.0|   1018.0| 1013.0|     1024.0|1028.0|     1014.0|1011.0| 1008.0|     1011.0|     1012.0|     1010.0| 1014.0|   1004.0|      1011.0| 1006.0| 1015.0|      1009.0|   1012.0|1011.0|    1015.0| 1005.0|      1014.0|  1012.0|    null|1014.0|    984.0|           1012.0|1010.0|1013.0|   1013.0|    990.0|\n",
      "|2012-10-02 04:00:00|     null|  1024.0|       1012.0| 1038.0|     1013.0|   1013.0|   1018.0| 1013.0|     1024.0|1028.0|     1014.0|1011.0| 1008.0|     1011.0|     1012.0|     1010.0| 1014.0|   1004.0|      1011.0| 1006.0| 1015.0|      1009.0|   1012.0|1011.0|    1015.0| 1004.0|      1014.0|  1012.0|    null|1014.0|    984.0|           1012.0|1010.0|1013.0|   1013.0|    990.0|\n",
      "|2012-10-02 05:00:00|     null|  1024.0|       1012.0| 1038.0|     1013.0|   1013.0|   1018.0| 1013.0|     1024.0|1028.0|     1014.0|1011.0| 1008.0|     1011.0|     1012.0|     1010.0| 1014.0|   1004.0|      1011.0| 1006.0| 1015.0|      1009.0|   1012.0|1011.0|    1015.0| 1004.0|      1014.0|  1012.0|    null|1014.0|    984.0|           1012.0|1010.0|1013.0|   1013.0|    990.0|\n",
      "|2012-10-02 06:00:00|     null|  1024.0|       1013.0| 1039.0|     1013.0|   1013.0|   1018.0| 1013.0|     1024.0|1028.0|     1014.0|1011.0| 1008.0|     1011.0|     1012.0|     1010.0| 1014.0|   1004.0|      1011.0| 1006.0| 1015.0|      1009.0|   1012.0|1011.0|    1015.0| 1003.0|      1014.0|  1012.0|    null|1014.0|    984.0|           1012.0|1010.0|1013.0|   1013.0|    990.0|\n",
      "|2012-10-02 07:00:00|     null|  1024.0|       1013.0| 1040.0|     1013.0|   1013.0|   1018.0| 1013.0|     1024.0|1028.0|     1014.0|1011.0| 1008.0|     1011.0|     1012.0|     1010.0| 1014.0|   1004.0|      1011.0| 1006.0| 1015.0|      1009.0|   1012.0|1011.0|    1015.0| 1003.0|      1014.0|  1012.0|    null|1014.0|    984.0|           1012.0|1010.0|1013.0|   1013.0|    990.0|\n",
      "+-------------------+---------+--------+-------------+-------+-----------+---------+---------+-------+-----------+------+-----------+------+-------+-----------+-----------+-----------+-------+---------+------------+-------+-------+------------+---------+------+----------+-------+------------+--------+--------+------+---------+-----------------+------+------+---------+---------+\n",
      "only showing top 20 rows\n",
      "\n"
     ]
    }
   ],
   "source": [
    "weather_desc_df.show()\n",
    "wind_direction_df.show()\n",
    "wind_speed_df.show()\n",
    "pressure_df.show()"
   ]
  },
  {
   "attachments": {},
   "cell_type": "markdown",
   "metadata": {},
   "source": [
    "### Step 2: Explore and Assess the Data\n",
    "#### Explore the Data \n",
    "Identify data quality issues, like missing values, duplicate data, etc.\n",
    "\n",
    "#### Cleaning Steps\n",
    "Document steps necessary to clean the data"
   ]
  },
  {
   "cell_type": "code",
   "execution_count": 13,
   "metadata": {},
   "outputs": [
    {
     "name": "stdout",
     "output_type": "stream",
     "text": [
      "Accidents count:  2845342\n",
      "Demographics count:  2891\n",
      "City attributes count:  36\n",
      "Humidity count:  45253\n",
      "Pressure count:  45253\n",
      "Temperature count:  45253\n",
      "Weather description count:  45253\n",
      "Wind direction count:  45253\n",
      "Wind speed count:  45253\n"
     ]
    }
   ],
   "source": [
    "# Count the number of records in each dataframe\n",
    "print(\"Accidents count: \", accidents_df.count())\n",
    "print(\"Demographics count: \", demographics_df.count())\n",
    "print(\"City attributes count: \", city_attributes_df.count())\n",
    "print(\"Humidity count: \", humidity_df.count())\n",
    "print(\"Pressure count: \", pressure_df.count())\n",
    "print(\"Temperature count: \", temperature_df.count())\n",
    "print(\"Weather description count: \", weather_desc_df.count())\n",
    "print(\"Wind direction count: \", wind_direction_df.count())\n",
    "print(\"Wind speed count: \", wind_speed_df.count())"
   ]
  },
  {
   "cell_type": "code",
   "execution_count": 14,
   "metadata": {},
   "outputs": [
    {
     "name": "stdout",
     "output_type": "stream",
     "text": [
      "root\n",
      " |-- ID: string (nullable = true)\n",
      " |-- Severity: integer (nullable = true)\n",
      " |-- Start_Time: timestamp (nullable = true)\n",
      " |-- End_Time: timestamp (nullable = true)\n",
      " |-- Start_Lat: double (nullable = true)\n",
      " |-- Start_Lng: double (nullable = true)\n",
      " |-- End_Lat: double (nullable = true)\n",
      " |-- End_Lng: double (nullable = true)\n",
      " |-- Distance(mi): double (nullable = true)\n",
      " |-- Description: string (nullable = true)\n",
      " |-- Number: double (nullable = true)\n",
      " |-- Street: string (nullable = true)\n",
      " |-- Side: string (nullable = true)\n",
      " |-- City: string (nullable = true)\n",
      " |-- County: string (nullable = true)\n",
      " |-- State: string (nullable = true)\n",
      " |-- Zipcode: string (nullable = true)\n",
      " |-- Country: string (nullable = true)\n",
      " |-- Timezone: string (nullable = true)\n",
      " |-- Airport_Code: string (nullable = true)\n",
      " |-- Weather_Timestamp: timestamp (nullable = true)\n",
      " |-- Temperature(F): double (nullable = true)\n",
      " |-- Wind_Chill(F): double (nullable = true)\n",
      " |-- Humidity(%): double (nullable = true)\n",
      " |-- Pressure(in): double (nullable = true)\n",
      " |-- Visibility(mi): double (nullable = true)\n",
      " |-- Wind_Direction: string (nullable = true)\n",
      " |-- Wind_Speed(mph): double (nullable = true)\n",
      " |-- Precipitation(in): double (nullable = true)\n",
      " |-- Weather_Condition: string (nullable = true)\n",
      " |-- Amenity: boolean (nullable = true)\n",
      " |-- Bump: boolean (nullable = true)\n",
      " |-- Crossing: boolean (nullable = true)\n",
      " |-- Give_Way: boolean (nullable = true)\n",
      " |-- Junction: boolean (nullable = true)\n",
      " |-- No_Exit: boolean (nullable = true)\n",
      " |-- Railway: boolean (nullable = true)\n",
      " |-- Roundabout: boolean (nullable = true)\n",
      " |-- Station: boolean (nullable = true)\n",
      " |-- Stop: boolean (nullable = true)\n",
      " |-- Traffic_Calming: boolean (nullable = true)\n",
      " |-- Traffic_Signal: boolean (nullable = true)\n",
      " |-- Turning_Loop: boolean (nullable = true)\n",
      " |-- Sunrise_Sunset: string (nullable = true)\n",
      " |-- Civil_Twilight: string (nullable = true)\n",
      " |-- Nautical_Twilight: string (nullable = true)\n",
      " |-- Astronomical_Twilight: string (nullable = true)\n",
      "\n"
     ]
    }
   ],
   "source": [
    "\n",
    "# Print the schema of each dataframe\n",
    "accidents_df.printSchema()\n",
    "\n",
    "\n",
    "\n"
   ]
  },
  {
   "cell_type": "code",
   "execution_count": 15,
   "metadata": {},
   "outputs": [
    {
     "name": "stdout",
     "output_type": "stream",
     "text": [
      "root\n",
      " |-- City: string (nullable = true)\n",
      " |-- Country: string (nullable = true)\n",
      " |-- Latitude: double (nullable = true)\n",
      " |-- Longitude: double (nullable = true)\n",
      "\n"
     ]
    }
   ],
   "source": [
    "city_attributes_df.printSchema()\n"
   ]
  },
  {
   "cell_type": "code",
   "execution_count": 16,
   "metadata": {},
   "outputs": [
    {
     "name": "stdout",
     "output_type": "stream",
     "text": [
      "root\n",
      " |-- City: string (nullable = true)\n",
      " |-- State: string (nullable = true)\n",
      " |-- Median Age: double (nullable = true)\n",
      " |-- Male Population: integer (nullable = true)\n",
      " |-- Female Population: integer (nullable = true)\n",
      " |-- Total Population: integer (nullable = true)\n",
      " |-- Number of Veterans: integer (nullable = true)\n",
      " |-- Foreign-born: integer (nullable = true)\n",
      " |-- Average Household Size: double (nullable = true)\n",
      " |-- State Code: string (nullable = true)\n",
      " |-- Race: string (nullable = true)\n",
      " |-- Count: integer (nullable = true)\n",
      "\n"
     ]
    }
   ],
   "source": [
    "demographics_df.printSchema()\n"
   ]
  },
  {
   "cell_type": "code",
   "execution_count": 17,
   "metadata": {},
   "outputs": [
    {
     "name": "stdout",
     "output_type": "stream",
     "text": [
      "root\n",
      " |-- datetime: timestamp (nullable = true)\n",
      " |-- Vancouver: double (nullable = true)\n",
      " |-- Portland: double (nullable = true)\n",
      " |-- San Francisco: double (nullable = true)\n",
      " |-- Seattle: double (nullable = true)\n",
      " |-- Los Angeles: double (nullable = true)\n",
      " |-- San Diego: double (nullable = true)\n",
      " |-- Las Vegas: double (nullable = true)\n",
      " |-- Phoenix: double (nullable = true)\n",
      " |-- Albuquerque: double (nullable = true)\n",
      " |-- Denver: double (nullable = true)\n",
      " |-- San Antonio: double (nullable = true)\n",
      " |-- Dallas: double (nullable = true)\n",
      " |-- Houston: double (nullable = true)\n",
      " |-- Kansas City: double (nullable = true)\n",
      " |-- Minneapolis: double (nullable = true)\n",
      " |-- Saint Louis: double (nullable = true)\n",
      " |-- Chicago: double (nullable = true)\n",
      " |-- Nashville: double (nullable = true)\n",
      " |-- Indianapolis: double (nullable = true)\n",
      " |-- Atlanta: double (nullable = true)\n",
      " |-- Detroit: double (nullable = true)\n",
      " |-- Jacksonville: double (nullable = true)\n",
      " |-- Charlotte: double (nullable = true)\n",
      " |-- Miami: double (nullable = true)\n",
      " |-- Pittsburgh: double (nullable = true)\n",
      " |-- Toronto: double (nullable = true)\n",
      " |-- Philadelphia: double (nullable = true)\n",
      " |-- New York: double (nullable = true)\n",
      " |-- Montreal: double (nullable = true)\n",
      " |-- Boston: double (nullable = true)\n",
      " |-- Beersheba: double (nullable = true)\n",
      " |-- Tel Aviv District: double (nullable = true)\n",
      " |-- Eilat: double (nullable = true)\n",
      " |-- Haifa: double (nullable = true)\n",
      " |-- Nahariyya: double (nullable = true)\n",
      " |-- Jerusalem: double (nullable = true)\n",
      "\n",
      "root\n",
      " |-- datetime: timestamp (nullable = true)\n",
      " |-- Vancouver: double (nullable = true)\n",
      " |-- Portland: double (nullable = true)\n",
      " |-- San Francisco: double (nullable = true)\n",
      " |-- Seattle: double (nullable = true)\n",
      " |-- Los Angeles: double (nullable = true)\n",
      " |-- San Diego: double (nullable = true)\n",
      " |-- Las Vegas: double (nullable = true)\n",
      " |-- Phoenix: double (nullable = true)\n",
      " |-- Albuquerque: double (nullable = true)\n",
      " |-- Denver: double (nullable = true)\n",
      " |-- San Antonio: double (nullable = true)\n",
      " |-- Dallas: double (nullable = true)\n",
      " |-- Houston: double (nullable = true)\n",
      " |-- Kansas City: double (nullable = true)\n",
      " |-- Minneapolis: double (nullable = true)\n",
      " |-- Saint Louis: double (nullable = true)\n",
      " |-- Chicago: double (nullable = true)\n",
      " |-- Nashville: double (nullable = true)\n",
      " |-- Indianapolis: double (nullable = true)\n",
      " |-- Atlanta: double (nullable = true)\n",
      " |-- Detroit: double (nullable = true)\n",
      " |-- Jacksonville: double (nullable = true)\n",
      " |-- Charlotte: double (nullable = true)\n",
      " |-- Miami: double (nullable = true)\n",
      " |-- Pittsburgh: double (nullable = true)\n",
      " |-- Toronto: double (nullable = true)\n",
      " |-- Philadelphia: double (nullable = true)\n",
      " |-- New York: double (nullable = true)\n",
      " |-- Montreal: double (nullable = true)\n",
      " |-- Boston: double (nullable = true)\n",
      " |-- Beersheba: double (nullable = true)\n",
      " |-- Tel Aviv District: double (nullable = true)\n",
      " |-- Eilat: double (nullable = true)\n",
      " |-- Haifa: double (nullable = true)\n",
      " |-- Nahariyya: double (nullable = true)\n",
      " |-- Jerusalem: double (nullable = true)\n",
      "\n",
      "root\n",
      " |-- datetime: timestamp (nullable = true)\n",
      " |-- Vancouver: double (nullable = true)\n",
      " |-- Portland: double (nullable = true)\n",
      " |-- San Francisco: double (nullable = true)\n",
      " |-- Seattle: double (nullable = true)\n",
      " |-- Los Angeles: double (nullable = true)\n",
      " |-- San Diego: double (nullable = true)\n",
      " |-- Las Vegas: double (nullable = true)\n",
      " |-- Phoenix: double (nullable = true)\n",
      " |-- Albuquerque: double (nullable = true)\n",
      " |-- Denver: double (nullable = true)\n",
      " |-- San Antonio: double (nullable = true)\n",
      " |-- Dallas: double (nullable = true)\n",
      " |-- Houston: double (nullable = true)\n",
      " |-- Kansas City: double (nullable = true)\n",
      " |-- Minneapolis: double (nullable = true)\n",
      " |-- Saint Louis: double (nullable = true)\n",
      " |-- Chicago: double (nullable = true)\n",
      " |-- Nashville: double (nullable = true)\n",
      " |-- Indianapolis: double (nullable = true)\n",
      " |-- Atlanta: double (nullable = true)\n",
      " |-- Detroit: double (nullable = true)\n",
      " |-- Jacksonville: double (nullable = true)\n",
      " |-- Charlotte: double (nullable = true)\n",
      " |-- Miami: double (nullable = true)\n",
      " |-- Pittsburgh: double (nullable = true)\n",
      " |-- Toronto: double (nullable = true)\n",
      " |-- Philadelphia: double (nullable = true)\n",
      " |-- New York: double (nullable = true)\n",
      " |-- Montreal: double (nullable = true)\n",
      " |-- Boston: double (nullable = true)\n",
      " |-- Beersheba: double (nullable = true)\n",
      " |-- Tel Aviv District: double (nullable = true)\n",
      " |-- Eilat: double (nullable = true)\n",
      " |-- Haifa: double (nullable = true)\n",
      " |-- Nahariyya: double (nullable = true)\n",
      " |-- Jerusalem: double (nullable = true)\n",
      "\n",
      "root\n",
      " |-- datetime: timestamp (nullable = true)\n",
      " |-- Vancouver: string (nullable = true)\n",
      " |-- Portland: string (nullable = true)\n",
      " |-- San Francisco: string (nullable = true)\n",
      " |-- Seattle: string (nullable = true)\n",
      " |-- Los Angeles: string (nullable = true)\n",
      " |-- San Diego: string (nullable = true)\n",
      " |-- Las Vegas: string (nullable = true)\n",
      " |-- Phoenix: string (nullable = true)\n",
      " |-- Albuquerque: string (nullable = true)\n",
      " |-- Denver: string (nullable = true)\n",
      " |-- San Antonio: string (nullable = true)\n",
      " |-- Dallas: string (nullable = true)\n",
      " |-- Houston: string (nullable = true)\n",
      " |-- Kansas City: string (nullable = true)\n",
      " |-- Minneapolis: string (nullable = true)\n",
      " |-- Saint Louis: string (nullable = true)\n",
      " |-- Chicago: string (nullable = true)\n",
      " |-- Nashville: string (nullable = true)\n",
      " |-- Indianapolis: string (nullable = true)\n",
      " |-- Atlanta: string (nullable = true)\n",
      " |-- Detroit: string (nullable = true)\n",
      " |-- Jacksonville: string (nullable = true)\n",
      " |-- Charlotte: string (nullable = true)\n",
      " |-- Miami: string (nullable = true)\n",
      " |-- Pittsburgh: string (nullable = true)\n",
      " |-- Toronto: string (nullable = true)\n",
      " |-- Philadelphia: string (nullable = true)\n",
      " |-- New York: string (nullable = true)\n",
      " |-- Montreal: string (nullable = true)\n",
      " |-- Boston: string (nullable = true)\n",
      " |-- Beersheba: string (nullable = true)\n",
      " |-- Tel Aviv District: string (nullable = true)\n",
      " |-- Eilat: string (nullable = true)\n",
      " |-- Haifa: string (nullable = true)\n",
      " |-- Nahariyya: string (nullable = true)\n",
      " |-- Jerusalem: string (nullable = true)\n",
      "\n",
      "root\n",
      " |-- datetime: timestamp (nullable = true)\n",
      " |-- Vancouver: double (nullable = true)\n",
      " |-- Portland: double (nullable = true)\n",
      " |-- San Francisco: double (nullable = true)\n",
      " |-- Seattle: double (nullable = true)\n",
      " |-- Los Angeles: double (nullable = true)\n",
      " |-- San Diego: double (nullable = true)\n",
      " |-- Las Vegas: double (nullable = true)\n",
      " |-- Phoenix: double (nullable = true)\n",
      " |-- Albuquerque: double (nullable = true)\n",
      " |-- Denver: double (nullable = true)\n",
      " |-- San Antonio: double (nullable = true)\n",
      " |-- Dallas: double (nullable = true)\n",
      " |-- Houston: double (nullable = true)\n",
      " |-- Kansas City: double (nullable = true)\n",
      " |-- Minneapolis: double (nullable = true)\n",
      " |-- Saint Louis: double (nullable = true)\n",
      " |-- Chicago: double (nullable = true)\n",
      " |-- Nashville: double (nullable = true)\n",
      " |-- Indianapolis: double (nullable = true)\n",
      " |-- Atlanta: double (nullable = true)\n",
      " |-- Detroit: double (nullable = true)\n",
      " |-- Jacksonville: double (nullable = true)\n",
      " |-- Charlotte: double (nullable = true)\n",
      " |-- Miami: double (nullable = true)\n",
      " |-- Pittsburgh: double (nullable = true)\n",
      " |-- Toronto: double (nullable = true)\n",
      " |-- Philadelphia: double (nullable = true)\n",
      " |-- New York: double (nullable = true)\n",
      " |-- Montreal: double (nullable = true)\n",
      " |-- Boston: double (nullable = true)\n",
      " |-- Beersheba: double (nullable = true)\n",
      " |-- Tel Aviv District: double (nullable = true)\n",
      " |-- Eilat: double (nullable = true)\n",
      " |-- Haifa: double (nullable = true)\n",
      " |-- Nahariyya: double (nullable = true)\n",
      " |-- Jerusalem: double (nullable = true)\n",
      "\n",
      "root\n",
      " |-- datetime: timestamp (nullable = true)\n",
      " |-- Vancouver: double (nullable = true)\n",
      " |-- Portland: double (nullable = true)\n",
      " |-- San Francisco: double (nullable = true)\n",
      " |-- Seattle: double (nullable = true)\n",
      " |-- Los Angeles: double (nullable = true)\n",
      " |-- San Diego: double (nullable = true)\n",
      " |-- Las Vegas: double (nullable = true)\n",
      " |-- Phoenix: double (nullable = true)\n",
      " |-- Albuquerque: double (nullable = true)\n",
      " |-- Denver: double (nullable = true)\n",
      " |-- San Antonio: double (nullable = true)\n",
      " |-- Dallas: double (nullable = true)\n",
      " |-- Houston: double (nullable = true)\n",
      " |-- Kansas City: double (nullable = true)\n",
      " |-- Minneapolis: double (nullable = true)\n",
      " |-- Saint Louis: double (nullable = true)\n",
      " |-- Chicago: double (nullable = true)\n",
      " |-- Nashville: double (nullable = true)\n",
      " |-- Indianapolis: double (nullable = true)\n",
      " |-- Atlanta: double (nullable = true)\n",
      " |-- Detroit: double (nullable = true)\n",
      " |-- Jacksonville: double (nullable = true)\n",
      " |-- Charlotte: double (nullable = true)\n",
      " |-- Miami: double (nullable = true)\n",
      " |-- Pittsburgh: double (nullable = true)\n",
      " |-- Toronto: double (nullable = true)\n",
      " |-- Philadelphia: double (nullable = true)\n",
      " |-- New York: double (nullable = true)\n",
      " |-- Montreal: double (nullable = true)\n",
      " |-- Boston: double (nullable = true)\n",
      " |-- Beersheba: double (nullable = true)\n",
      " |-- Tel Aviv District: double (nullable = true)\n",
      " |-- Eilat: double (nullable = true)\n",
      " |-- Haifa: double (nullable = true)\n",
      " |-- Nahariyya: double (nullable = true)\n",
      " |-- Jerusalem: double (nullable = true)\n",
      "\n"
     ]
    }
   ],
   "source": [
    "humidity_df.printSchema()\n",
    "pressure_df.printSchema()\n",
    "temperature_df.printSchema()\n",
    "weather_desc_df.printSchema()\n",
    "wind_direction_df.printSchema()\n",
    "wind_speed_df.printSchema()"
   ]
  },
  {
   "attachments": {},
   "cell_type": "markdown",
   "metadata": {},
   "source": [
    "**Identifying Missing Values**"
   ]
  },
  {
   "cell_type": "code",
   "execution_count": 18,
   "metadata": {},
   "outputs": [
    {
     "name": "stdout",
     "output_type": "stream",
     "text": [
      "+---+--------+----------+--------+---------+---------+-------+-------+------------+-----------+-------+------+----+----+------+-----+-------+-------+--------+------------+-----------------+--------------+-------------+-----------+------------+--------------+--------------+---------------+-----------------+-----------------+-------+----+--------+--------+--------+-------+-------+----------+-------+----+---------------+--------------+------------+--------------+--------------+-----------------+---------------------+\n",
      "| ID|Severity|Start_Time|End_Time|Start_Lat|Start_Lng|End_Lat|End_Lng|Distance(mi)|Description| Number|Street|Side|City|County|State|Zipcode|Country|Timezone|Airport_Code|Weather_Timestamp|Temperature(F)|Wind_Chill(F)|Humidity(%)|Pressure(in)|Visibility(mi)|Wind_Direction|Wind_Speed(mph)|Precipitation(in)|Weather_Condition|Amenity|Bump|Crossing|Give_Way|Junction|No_Exit|Railway|Roundabout|Station|Stop|Traffic_Calming|Traffic_Signal|Turning_Loop|Sunrise_Sunset|Civil_Twilight|Nautical_Twilight|Astronomical_Twilight|\n",
      "+---+--------+----------+--------+---------+---------+-------+-------+------------+-----------+-------+------+----+----+------+-----+-------+-------+--------+------------+-----------------+--------------+-------------+-----------+------------+--------------+--------------+---------------+-----------------+-----------------+-------+----+--------+--------+--------+-------+-------+----------+-------+----+---------------+--------------+------------+--------------+--------------+-----------------+---------------------+\n",
      "|  0|       0|         0|       0|        0|        0|      0|      0|           0|          0|1743911|     2|   0| 137|     0|    0|   1319|      0|    3659|        9549|            50736|         69274|       469643|      73092|       59200|         70546|         73775|         157944|           549458|            70636|      0|   0|       0|       0|       0|      0|      0|         0|      0|   0|              0|             0|           0|          2867|          2867|             2867|                 2867|\n",
      "+---+--------+----------+--------+---------+---------+-------+-------+------------+-----------+-------+------+----+----+------+-----+-------+-------+--------+------------+-----------------+--------------+-------------+-----------+------------+--------------+--------------+---------------+-----------------+-----------------+-------+----+--------+--------+--------+-------+-------+----------+-------+----+---------------+--------------+------------+--------------+--------------+-----------------+---------------------+\n",
      "\n"
     ]
    }
   ],
   "source": [
    "### Identifying Missing Values\n",
    "\n",
    "# Get list of columns in the DataFrame\n",
    "columns = accidents_df.columns\n",
    "\n",
    "# Initialize an empty list to hold column expressions\n",
    "column_exprs = []\n",
    "\n",
    "# For each column, create an expression that counts null values\n",
    "for c in columns:\n",
    "    column_expr = sum(col(c).isNull().cast(\"int\")).alias(c)\n",
    "    column_exprs.append(column_expr)\n",
    "\n",
    "# Select these column expressions from the DataFrame\n",
    "null_counts_df = accidents_df.select(*column_exprs)\n",
    "\n",
    "# Display the result\n",
    "null_counts_df.show()"
   ]
  },
  {
   "attachments": {},
   "cell_type": "markdown",
   "metadata": {},
   "source": [
    "**    Identifying Duplicates**"
   ]
  },
  {
   "cell_type": "code",
   "execution_count": 19,
   "metadata": {},
   "outputs": [
    {
     "name": "stdout",
     "output_type": "stream",
     "text": [
      "Number of duplicate rows:  0\n"
     ]
    }
   ],
   "source": [
    "duplicates = accidents_df.count() - accidents_df.distinct().count()\n",
    "print(\"Number of duplicate rows: \", duplicates)\n"
   ]
  },
  {
   "attachments": {},
   "cell_type": "markdown",
   "metadata": {},
   "source": [
    "**Identifying Missing Values**"
   ]
  },
  {
   "cell_type": "code",
   "execution_count": 20,
   "metadata": {},
   "outputs": [
    {
     "name": "stdout",
     "output_type": "stream",
     "text": [
      "+---+--------+----------+--------+---------+---------+-------+-------+------------+-----------+-------+------+----+----+------+-----+-------+-------+--------+------------+-----------------+--------------+-------------+-----------+------------+--------------+--------------+---------------+-----------------+-----------------+-------+----+--------+--------+--------+-------+-------+----------+-------+----+---------------+--------------+------------+--------------+--------------+-----------------+---------------------+\n",
      "| ID|Severity|Start_Time|End_Time|Start_Lat|Start_Lng|End_Lat|End_Lng|Distance(mi)|Description| Number|Street|Side|City|County|State|Zipcode|Country|Timezone|Airport_Code|Weather_Timestamp|Temperature(F)|Wind_Chill(F)|Humidity(%)|Pressure(in)|Visibility(mi)|Wind_Direction|Wind_Speed(mph)|Precipitation(in)|Weather_Condition|Amenity|Bump|Crossing|Give_Way|Junction|No_Exit|Railway|Roundabout|Station|Stop|Traffic_Calming|Traffic_Signal|Turning_Loop|Sunrise_Sunset|Civil_Twilight|Nautical_Twilight|Astronomical_Twilight|\n",
      "+---+--------+----------+--------+---------+---------+-------+-------+------------+-----------+-------+------+----+----+------+-----+-------+-------+--------+------------+-----------------+--------------+-------------+-----------+------------+--------------+--------------+---------------+-----------------+-----------------+-------+----+--------+--------+--------+-------+-------+----------+-------+----+---------------+--------------+------------+--------------+--------------+-----------------+---------------------+\n",
      "|  0|       0|         0|       0|        0|        0|      0|      0|           0|          0|1743911|     2|   0| 137|     0|    0|   1319|      0|    3659|        9549|            50736|         69274|       469643|      73092|       59200|         70546|         73775|         157944|           549458|            70636|      0|   0|       0|       0|       0|      0|      0|         0|      0|   0|              0|             0|           0|          2867|          2867|             2867|                 2867|\n",
      "+---+--------+----------+--------+---------+---------+-------+-------+------------+-----------+-------+------+----+----+------+-----+-------+-------+--------+------------+-----------------+--------------+-------------+-----------+------------+--------------+--------------+---------------+-----------------+-----------------+-------+----+--------+--------+--------+-------+-------+----------+-------+----+---------------+--------------+------------+--------------+--------------+-----------------+---------------------+\n",
      "\n"
     ]
    }
   ],
   "source": [
    "### Identifying Missing Values\n",
    "\n",
    "# Get list of columns in the DataFrame\n",
    "columns = accidents_df.columns\n",
    "\n",
    "# Initialize an empty list to hold column expressions\n",
    "column_exprs = []\n",
    "\n",
    "# For each column, create an expression that counts null values\n",
    "for c in columns:\n",
    "    column_expr = sum(col(c).isNull().cast(\"int\")).alias(c)\n",
    "    column_exprs.append(column_expr)\n",
    "\n",
    "# Select these column expressions from the DataFrame\n",
    "null_counts_df = accidents_df.select(*column_exprs)\n",
    "\n",
    "# Display the result\n",
    "null_counts_df.show()"
   ]
  },
  {
   "attachments": {},
   "cell_type": "markdown",
   "metadata": {},
   "source": [
    "Looking at the DataFrame summary we provided, it's evident that several columns have missing values. Whether we need to address this depends on the specific requirements of our project and how we plan to use the data.\n",
    "\n",
    "Here are some general considerations:\n",
    "\n",
    "    Columns with Missing Values: We need to examine which columns have missing values. If a column is not critical to our analysis and has a substantial amount of missing values, we might consider excluding it. For instance, 'Wind_Chill(F)' and 'Precipitation(in)' have many missing values and may not be critical for a traffic accidents analysis.\n",
    "\n",
    "    Rows with Missing Values: If only a small fraction of rows have missing values, we might consider removing those rows, particularly if they're not crucial to our analysis.\n",
    "\n",
    "    Imputation: If a column is critical to our analysis and has some missing values, we might consider imputing the missing values (i.e., filling them in based on other data). For example, we could fill missing values in the 'Temperature(F)' column with the average temperature.\n",
    "\n",
    "    Data Completeness: We must consider the completeness of our data. If there are many missing values, our analysis might be biased. For instance, if we're missing weather conditions for a certain region or time period, any analysis related to weather conditions might be skewed."
   ]
  },
  {
   "attachments": {},
   "cell_type": "markdown",
   "metadata": {},
   "source": [
    "**Cleaning Steps**"
   ]
  },
  {
   "cell_type": "code",
   "execution_count": 21,
   "metadata": {},
   "outputs": [],
   "source": [
    "# Remove missing values\n",
    "accidents_df = accidents_df.na.drop()\n",
    "demographics_df = demographics_df.na.drop()\n",
    "city_attributes_df = city_attributes_df.na.drop()\n",
    "humidity_df = humidity_df.na.drop()\n",
    "pressure_df = pressure_df.na.drop()\n",
    "temperature_df = temperature_df.na.drop()\n",
    "weather_desc_df = weather_desc_df.na.drop()\n",
    "wind_direction_df = wind_direction_df.na.drop()\n",
    "wind_speed_df = wind_speed_df.na.drop()\n"
   ]
  },
  {
   "cell_type": "code",
   "execution_count": 22,
   "metadata": {},
   "outputs": [],
   "source": [
    "# Remove duplicates\n",
    "accidents_df = accidents_df.dropDuplicates()\n",
    "demographics_df = demographics_df.dropDuplicates()\n",
    "city_attributes_df = city_attributes_df.dropDuplicates()\n",
    "humidity_df = humidity_df.dropDuplicates()\n",
    "pressure_df = pressure_df.dropDuplicates()\n",
    "temperature_df = temperature_df.dropDuplicates()\n",
    "weather_desc_df = weather_desc_df.dropDuplicates()\n",
    "wind_direction_df = wind_direction_df.dropDuplicates()\n",
    "wind_speed_df = wind_speed_df.dropDuplicates()"
   ]
  },
  {
   "cell_type": "code",
   "execution_count": 23,
   "metadata": {},
   "outputs": [],
   "source": [
    "# Drop columns with a large number of missing values\n",
    "accidents_df = accidents_df.drop('Wind_Chill(F)', 'Precipitation(in)')\n",
    "\n",
    "# Drop rows with missing values in critical columns\n",
    "accidents_df = accidents_df.na.drop(subset=[\"Temperature(F)\", \"Humidity(%)\", \"Pressure(in)\", \"Visibility(mi)\"])\n",
    "\n",
    "# Impute missing values in 'Temperature(F)' column with its mean\n",
    "mean_val = accidents_df.select(mean(accidents_df['Temperature(F)'])).collect()[0][0]\n",
    "accidents_df = accidents_df.na.fill(mean_val, subset=['Temperature(F)'])\n"
   ]
  },
  {
   "attachments": {},
   "cell_type": "markdown",
   "metadata": {},
   "source": [
    "### Step 3: Define the Data Model\n",
    "#### 3.1 Conceptual Data Model\n",
    "Conceptual Data Model:\n",
    "\n",
    "    Star schema is chosen as it's simple, yet effective for this use case.\n",
    "    Fact table: Accidents data.\n",
    "    Dimension tables: Demographics and Weather.\n",
    "\n",
    "#### 3.2 Mapping Out Data Pipelines\n",
    "    Extract data from all sources using PySpark.\n",
    "    Transform data (clean, format, and aggregate as necessary).\n",
    "    Load transformed data into Redshift tables."
   ]
  },
  {
   "cell_type": "code",
   "execution_count": 6,
   "metadata": {},
   "outputs": [
    {
     "name": "stderr",
     "output_type": "stream",
     "text": [
      "Error: Could not open \"Digraph.gv.pdf\" for writing : Permission denied\n"
     ]
    },
    {
     "ename": "CalledProcessError",
     "evalue": "Command '[WindowsPath('dot'), '-Kdot', '-Tpdf', '-O', 'Digraph.gv']' returned non-zero exit status 1. [stderr: b'Error: Could not open \"Digraph.gv.pdf\" for writing : Permission denied\\r\\n']",
     "output_type": "error",
     "traceback": [
      "\u001b[1;31m---------------------------------------------------------------------------\u001b[0m",
      "\u001b[1;31mCalledProcessError\u001b[0m                        Traceback (most recent call last)",
      "File \u001b[1;32mc:\\Program Files\\My Projects\\pyspark\\venv\\lib\\site-packages\\graphviz\\backend\\execute.py:91\u001b[0m, in \u001b[0;36mrun_check\u001b[1;34m(cmd, input_lines, encoding, quiet, **kwargs)\u001b[0m\n\u001b[0;32m     90\u001b[0m \u001b[39mtry\u001b[39;00m:\n\u001b[1;32m---> 91\u001b[0m     proc\u001b[39m.\u001b[39;49mcheck_returncode()\n\u001b[0;32m     92\u001b[0m \u001b[39mexcept\u001b[39;00m subprocess\u001b[39m.\u001b[39mCalledProcessError \u001b[39mas\u001b[39;00m e:\n",
      "File \u001b[1;32m~\\AppData\\Local\\Programs\\Python\\Python310\\lib\\subprocess.py:457\u001b[0m, in \u001b[0;36mCompletedProcess.check_returncode\u001b[1;34m(self)\u001b[0m\n\u001b[0;32m    456\u001b[0m \u001b[39mif\u001b[39;00m \u001b[39mself\u001b[39m\u001b[39m.\u001b[39mreturncode:\n\u001b[1;32m--> 457\u001b[0m     \u001b[39mraise\u001b[39;00m CalledProcessError(\u001b[39mself\u001b[39m\u001b[39m.\u001b[39mreturncode, \u001b[39mself\u001b[39m\u001b[39m.\u001b[39margs, \u001b[39mself\u001b[39m\u001b[39m.\u001b[39mstdout,\n\u001b[0;32m    458\u001b[0m                              \u001b[39mself\u001b[39m\u001b[39m.\u001b[39mstderr)\n",
      "\u001b[1;31mCalledProcessError\u001b[0m: Command '[WindowsPath('dot'), '-Kdot', '-Tpdf', '-O', 'Digraph.gv']' returned non-zero exit status 1.",
      "\nDuring handling of the above exception, another exception occurred:\n",
      "\u001b[1;31mCalledProcessError\u001b[0m                        Traceback (most recent call last)",
      "Cell \u001b[1;32mIn[6], line 16\u001b[0m\n\u001b[0;32m     13\u001b[0m dot\u001b[39m.\u001b[39medge(\u001b[39m'\u001b[39m\u001b[39mA\u001b[39m\u001b[39m'\u001b[39m, \u001b[39m'\u001b[39m\u001b[39mW\u001b[39m\u001b[39m'\u001b[39m, label\u001b[39m=\u001b[39m\u001b[39m'\u001b[39m\u001b[39mMany-to-One\u001b[39m\u001b[39m'\u001b[39m)\n\u001b[0;32m     15\u001b[0m \u001b[39m# Visualize the graph\u001b[39;00m\n\u001b[1;32m---> 16\u001b[0m dot\u001b[39m.\u001b[39;49mview()\n",
      "File \u001b[1;32mc:\\Program Files\\My Projects\\pyspark\\venv\\lib\\site-packages\\graphviz\\_tools.py:171\u001b[0m, in \u001b[0;36mdeprecate_positional_args.<locals>.decorator.<locals>.wrapper\u001b[1;34m(*args, **kwargs)\u001b[0m\n\u001b[0;32m    162\u001b[0m     wanted \u001b[39m=\u001b[39m \u001b[39m'\u001b[39m\u001b[39m, \u001b[39m\u001b[39m'\u001b[39m\u001b[39m.\u001b[39mjoin(\u001b[39mf\u001b[39m\u001b[39m'\u001b[39m\u001b[39m{\u001b[39;00mname\u001b[39m}\u001b[39;00m\u001b[39m=\u001b[39m\u001b[39m{\u001b[39;00mvalue\u001b[39m!r}\u001b[39;00m\u001b[39m'\u001b[39m\n\u001b[0;32m    163\u001b[0m                        \u001b[39mfor\u001b[39;00m name, value \u001b[39min\u001b[39;00m deprecated\u001b[39m.\u001b[39mitems())\n\u001b[0;32m    164\u001b[0m     warnings\u001b[39m.\u001b[39mwarn(\u001b[39mf\u001b[39m\u001b[39m'\u001b[39m\u001b[39mThe signature of \u001b[39m\u001b[39m{\u001b[39;00mfunc\u001b[39m.\u001b[39m\u001b[39m__name__\u001b[39m\u001b[39m}\u001b[39;00m\u001b[39m will be reduced\u001b[39m\u001b[39m'\u001b[39m\n\u001b[0;32m    165\u001b[0m                   \u001b[39mf\u001b[39m\u001b[39m'\u001b[39m\u001b[39m to \u001b[39m\u001b[39m{\u001b[39;00msupported_number\u001b[39m}\u001b[39;00m\u001b[39m positional args\u001b[39m\u001b[39m'\u001b[39m\n\u001b[0;32m    166\u001b[0m                   \u001b[39mf\u001b[39m\u001b[39m'\u001b[39m\u001b[39m \u001b[39m\u001b[39m{\u001b[39;00m\u001b[39mlist\u001b[39m(supported)\u001b[39m}\u001b[39;00m\u001b[39m: pass \u001b[39m\u001b[39m{\u001b[39;00mwanted\u001b[39m}\u001b[39;00m\u001b[39m'\u001b[39m\n\u001b[0;32m    167\u001b[0m                   \u001b[39m'\u001b[39m\u001b[39m as keyword arg(s)\u001b[39m\u001b[39m'\u001b[39m,\n\u001b[0;32m    168\u001b[0m                   stacklevel\u001b[39m=\u001b[39mstacklevel,\n\u001b[0;32m    169\u001b[0m                   category\u001b[39m=\u001b[39mcategory)\n\u001b[1;32m--> 171\u001b[0m \u001b[39mreturn\u001b[39;00m func(\u001b[39m*\u001b[39margs, \u001b[39m*\u001b[39m\u001b[39m*\u001b[39mkwargs)\n",
      "File \u001b[1;32mc:\\Program Files\\My Projects\\pyspark\\venv\\lib\\site-packages\\graphviz\\rendering.py:185\u001b[0m, in \u001b[0;36mRender.view\u001b[1;34m(self, filename, directory, cleanup, quiet, quiet_view)\u001b[0m\n\u001b[0;32m    150\u001b[0m \u001b[39m@_tools\u001b[39m\u001b[39m.\u001b[39mdeprecate_positional_args(supported_number\u001b[39m=\u001b[39m\u001b[39m2\u001b[39m)\n\u001b[0;32m    151\u001b[0m \u001b[39mdef\u001b[39;00m \u001b[39mview\u001b[39m(\u001b[39mself\u001b[39m,\n\u001b[0;32m    152\u001b[0m          filename: typing\u001b[39m.\u001b[39mUnion[os\u001b[39m.\u001b[39mPathLike, \u001b[39mstr\u001b[39m, \u001b[39mNone\u001b[39;00m] \u001b[39m=\u001b[39m \u001b[39mNone\u001b[39;00m,\n\u001b[1;32m   (...)\u001b[0m\n\u001b[0;32m    155\u001b[0m          quiet: \u001b[39mbool\u001b[39m \u001b[39m=\u001b[39m \u001b[39mFalse\u001b[39;00m,\n\u001b[0;32m    156\u001b[0m          quiet_view: \u001b[39mbool\u001b[39m \u001b[39m=\u001b[39m \u001b[39mFalse\u001b[39;00m) \u001b[39m-\u001b[39m\u001b[39m>\u001b[39m \u001b[39mstr\u001b[39m:\n\u001b[0;32m    157\u001b[0m \u001b[39m    \u001b[39m\u001b[39m\"\"\"Save the source to file, open the rendered result in a viewer.\u001b[39;00m\n\u001b[0;32m    158\u001b[0m \n\u001b[0;32m    159\u001b[0m \u001b[39m    Convenience short-cut for running ``.render(view=True)``.\u001b[39;00m\n\u001b[1;32m   (...)\u001b[0m\n\u001b[0;32m    183\u001b[0m \u001b[39m        and no way to retrieve the application's exit status.\u001b[39;00m\n\u001b[0;32m    184\u001b[0m \u001b[39m    \"\"\"\u001b[39;00m\n\u001b[1;32m--> 185\u001b[0m     \u001b[39mreturn\u001b[39;00m \u001b[39mself\u001b[39;49m\u001b[39m.\u001b[39;49mrender(filename\u001b[39m=\u001b[39;49mfilename, directory\u001b[39m=\u001b[39;49mdirectory, view\u001b[39m=\u001b[39;49m\u001b[39mTrue\u001b[39;49;00m,\n\u001b[0;32m    186\u001b[0m                        cleanup\u001b[39m=\u001b[39;49mcleanup, quiet\u001b[39m=\u001b[39;49mquiet, quiet_view\u001b[39m=\u001b[39;49mquiet_view)\n",
      "File \u001b[1;32mc:\\Program Files\\My Projects\\pyspark\\venv\\lib\\site-packages\\graphviz\\_tools.py:171\u001b[0m, in \u001b[0;36mdeprecate_positional_args.<locals>.decorator.<locals>.wrapper\u001b[1;34m(*args, **kwargs)\u001b[0m\n\u001b[0;32m    162\u001b[0m     wanted \u001b[39m=\u001b[39m \u001b[39m'\u001b[39m\u001b[39m, \u001b[39m\u001b[39m'\u001b[39m\u001b[39m.\u001b[39mjoin(\u001b[39mf\u001b[39m\u001b[39m'\u001b[39m\u001b[39m{\u001b[39;00mname\u001b[39m}\u001b[39;00m\u001b[39m=\u001b[39m\u001b[39m{\u001b[39;00mvalue\u001b[39m!r}\u001b[39;00m\u001b[39m'\u001b[39m\n\u001b[0;32m    163\u001b[0m                        \u001b[39mfor\u001b[39;00m name, value \u001b[39min\u001b[39;00m deprecated\u001b[39m.\u001b[39mitems())\n\u001b[0;32m    164\u001b[0m     warnings\u001b[39m.\u001b[39mwarn(\u001b[39mf\u001b[39m\u001b[39m'\u001b[39m\u001b[39mThe signature of \u001b[39m\u001b[39m{\u001b[39;00mfunc\u001b[39m.\u001b[39m\u001b[39m__name__\u001b[39m\u001b[39m}\u001b[39;00m\u001b[39m will be reduced\u001b[39m\u001b[39m'\u001b[39m\n\u001b[0;32m    165\u001b[0m                   \u001b[39mf\u001b[39m\u001b[39m'\u001b[39m\u001b[39m to \u001b[39m\u001b[39m{\u001b[39;00msupported_number\u001b[39m}\u001b[39;00m\u001b[39m positional args\u001b[39m\u001b[39m'\u001b[39m\n\u001b[0;32m    166\u001b[0m                   \u001b[39mf\u001b[39m\u001b[39m'\u001b[39m\u001b[39m \u001b[39m\u001b[39m{\u001b[39;00m\u001b[39mlist\u001b[39m(supported)\u001b[39m}\u001b[39;00m\u001b[39m: pass \u001b[39m\u001b[39m{\u001b[39;00mwanted\u001b[39m}\u001b[39;00m\u001b[39m'\u001b[39m\n\u001b[0;32m    167\u001b[0m                   \u001b[39m'\u001b[39m\u001b[39m as keyword arg(s)\u001b[39m\u001b[39m'\u001b[39m,\n\u001b[0;32m    168\u001b[0m                   stacklevel\u001b[39m=\u001b[39mstacklevel,\n\u001b[0;32m    169\u001b[0m                   category\u001b[39m=\u001b[39mcategory)\n\u001b[1;32m--> 171\u001b[0m \u001b[39mreturn\u001b[39;00m func(\u001b[39m*\u001b[39margs, \u001b[39m*\u001b[39m\u001b[39m*\u001b[39mkwargs)\n",
      "File \u001b[1;32mc:\\Program Files\\My Projects\\pyspark\\venv\\lib\\site-packages\\graphviz\\rendering.py:122\u001b[0m, in \u001b[0;36mRender.render\u001b[1;34m(self, filename, directory, view, cleanup, format, renderer, formatter, neato_no_op, quiet, quiet_view, outfile, engine, raise_if_result_exists, overwrite_source)\u001b[0m\n\u001b[0;32m    118\u001b[0m filepath \u001b[39m=\u001b[39m \u001b[39mself\u001b[39m\u001b[39m.\u001b[39msave(filename, directory\u001b[39m=\u001b[39mdirectory, skip_existing\u001b[39m=\u001b[39m\u001b[39mNone\u001b[39;00m)\n\u001b[0;32m    120\u001b[0m args\u001b[39m.\u001b[39mappend(filepath)\n\u001b[1;32m--> 122\u001b[0m rendered \u001b[39m=\u001b[39m \u001b[39mself\u001b[39m\u001b[39m.\u001b[39m_render(\u001b[39m*\u001b[39margs, \u001b[39m*\u001b[39m\u001b[39m*\u001b[39mkwargs)\n\u001b[0;32m    124\u001b[0m \u001b[39mif\u001b[39;00m cleanup:\n\u001b[0;32m    125\u001b[0m     log\u001b[39m.\u001b[39mdebug(\u001b[39m'\u001b[39m\u001b[39mdelete \u001b[39m\u001b[39m%r\u001b[39;00m\u001b[39m'\u001b[39m, filepath)\n",
      "File \u001b[1;32mc:\\Program Files\\My Projects\\pyspark\\venv\\lib\\site-packages\\graphviz\\_tools.py:171\u001b[0m, in \u001b[0;36mdeprecate_positional_args.<locals>.decorator.<locals>.wrapper\u001b[1;34m(*args, **kwargs)\u001b[0m\n\u001b[0;32m    162\u001b[0m     wanted \u001b[39m=\u001b[39m \u001b[39m'\u001b[39m\u001b[39m, \u001b[39m\u001b[39m'\u001b[39m\u001b[39m.\u001b[39mjoin(\u001b[39mf\u001b[39m\u001b[39m'\u001b[39m\u001b[39m{\u001b[39;00mname\u001b[39m}\u001b[39;00m\u001b[39m=\u001b[39m\u001b[39m{\u001b[39;00mvalue\u001b[39m!r}\u001b[39;00m\u001b[39m'\u001b[39m\n\u001b[0;32m    163\u001b[0m                        \u001b[39mfor\u001b[39;00m name, value \u001b[39min\u001b[39;00m deprecated\u001b[39m.\u001b[39mitems())\n\u001b[0;32m    164\u001b[0m     warnings\u001b[39m.\u001b[39mwarn(\u001b[39mf\u001b[39m\u001b[39m'\u001b[39m\u001b[39mThe signature of \u001b[39m\u001b[39m{\u001b[39;00mfunc\u001b[39m.\u001b[39m\u001b[39m__name__\u001b[39m\u001b[39m}\u001b[39;00m\u001b[39m will be reduced\u001b[39m\u001b[39m'\u001b[39m\n\u001b[0;32m    165\u001b[0m                   \u001b[39mf\u001b[39m\u001b[39m'\u001b[39m\u001b[39m to \u001b[39m\u001b[39m{\u001b[39;00msupported_number\u001b[39m}\u001b[39;00m\u001b[39m positional args\u001b[39m\u001b[39m'\u001b[39m\n\u001b[0;32m    166\u001b[0m                   \u001b[39mf\u001b[39m\u001b[39m'\u001b[39m\u001b[39m \u001b[39m\u001b[39m{\u001b[39;00m\u001b[39mlist\u001b[39m(supported)\u001b[39m}\u001b[39;00m\u001b[39m: pass \u001b[39m\u001b[39m{\u001b[39;00mwanted\u001b[39m}\u001b[39;00m\u001b[39m'\u001b[39m\n\u001b[0;32m    167\u001b[0m                   \u001b[39m'\u001b[39m\u001b[39m as keyword arg(s)\u001b[39m\u001b[39m'\u001b[39m,\n\u001b[0;32m    168\u001b[0m                   stacklevel\u001b[39m=\u001b[39mstacklevel,\n\u001b[0;32m    169\u001b[0m                   category\u001b[39m=\u001b[39mcategory)\n\u001b[1;32m--> 171\u001b[0m \u001b[39mreturn\u001b[39;00m func(\u001b[39m*\u001b[39margs, \u001b[39m*\u001b[39m\u001b[39m*\u001b[39mkwargs)\n",
      "File \u001b[1;32mc:\\Program Files\\My Projects\\pyspark\\venv\\lib\\site-packages\\graphviz\\backend\\rendering.py:324\u001b[0m, in \u001b[0;36mrender\u001b[1;34m(engine, format, filepath, renderer, formatter, neato_no_op, quiet, outfile, raise_if_result_exists, overwrite_filepath)\u001b[0m\n\u001b[0;32m    320\u001b[0m     \u001b[39mraise\u001b[39;00m exceptions\u001b[39m.\u001b[39mFileExistsError(\u001b[39mf\u001b[39m\u001b[39m'\u001b[39m\u001b[39moutput file exists: \u001b[39m\u001b[39m{\u001b[39;00mos\u001b[39m.\u001b[39mfspath(outfile)\u001b[39m!r}\u001b[39;00m\u001b[39m'\u001b[39m)\n\u001b[0;32m    322\u001b[0m cmd \u001b[39m+\u001b[39m\u001b[39m=\u001b[39m args\n\u001b[1;32m--> 324\u001b[0m execute\u001b[39m.\u001b[39;49mrun_check(cmd,\n\u001b[0;32m    325\u001b[0m                   cwd\u001b[39m=\u001b[39;49mfilepath\u001b[39m.\u001b[39;49mparent \u001b[39mif\u001b[39;49;00m filepath\u001b[39m.\u001b[39;49mparent\u001b[39m.\u001b[39;49mparts \u001b[39melse\u001b[39;49;00m \u001b[39mNone\u001b[39;49;00m,\n\u001b[0;32m    326\u001b[0m                   quiet\u001b[39m=\u001b[39;49mquiet,\n\u001b[0;32m    327\u001b[0m                   capture_output\u001b[39m=\u001b[39;49m\u001b[39mTrue\u001b[39;49;00m)\n\u001b[0;32m    329\u001b[0m \u001b[39mreturn\u001b[39;00m os\u001b[39m.\u001b[39mfspath(outfile)\n",
      "File \u001b[1;32mc:\\Program Files\\My Projects\\pyspark\\venv\\lib\\site-packages\\graphviz\\backend\\execute.py:93\u001b[0m, in \u001b[0;36mrun_check\u001b[1;34m(cmd, input_lines, encoding, quiet, **kwargs)\u001b[0m\n\u001b[0;32m     91\u001b[0m     proc\u001b[39m.\u001b[39mcheck_returncode()\n\u001b[0;32m     92\u001b[0m \u001b[39mexcept\u001b[39;00m subprocess\u001b[39m.\u001b[39mCalledProcessError \u001b[39mas\u001b[39;00m e:\n\u001b[1;32m---> 93\u001b[0m     \u001b[39mraise\u001b[39;00m CalledProcessError(\u001b[39m*\u001b[39me\u001b[39m.\u001b[39margs)\n\u001b[0;32m     95\u001b[0m \u001b[39mreturn\u001b[39;00m proc\n",
      "\u001b[1;31mCalledProcessError\u001b[0m: Command '[WindowsPath('dot'), '-Kdot', '-Tpdf', '-O', 'Digraph.gv']' returned non-zero exit status 1. [stderr: b'Error: Could not open \"Digraph.gv.pdf\" for writing : Permission denied\\r\\n']"
     ]
    }
   ],
   "source": [
    "from graphviz import Digraph\n",
    "\n",
    "# Create a new directed graph\n",
    "dot = Digraph(comment='Data Model')\n",
    "\n",
    "# Add nodes (tables)\n",
    "dot.node('A', 'Accidents')\n",
    "dot.node('C', 'City_Attributes')\n",
    "dot.node('W', 'Weather')\n",
    "\n",
    "# Add edges (relationships)\n",
    "dot.edge('A', 'C', label='Many-to-One')\n",
    "dot.edge('A', 'W', label='Many-to-One')\n",
    "\n",
    "# Visualize the graph\n",
    "dot.view()\n"
   ]
  },
  {
   "cell_type": "code",
   "execution_count": null,
   "metadata": {},
   "outputs": [],
   "source": []
  },
  {
   "cell_type": "code",
   "execution_count": 23,
   "metadata": {},
   "outputs": [],
   "source": [
    "dot.render('data_model.png', view=True, format='png')\n"
   ]
  },
  {
   "attachments": {},
   "cell_type": "markdown",
   "metadata": {},
   "source": [
    "### Step 4: Run Pipelines to Model the Data \n",
    "\n",
    "\n",
    "\n",
    "#### 4.1 Create the data model\n",
    "Build the data pipelines to create the data model.\n",
    "\n",
    "The data model will be based on the Star Schema, where we will have one Fact table and several Dimension tables.\n",
    "\n",
    "    Fact Table: accidents\n",
    "    Dimension Tables: demographics, city_attributes, humidity, pressure, temperature, weather_desc, wind_direction, wind_speed."
   ]
  },
  {
   "cell_type": "code",
   "execution_count": 27,
   "metadata": {},
   "outputs": [],
   "source": [
    "def unpivot(df):\n",
    "    # Get the list of all cities (all column names except 'datetime')\n",
    "    cities = [x for x in df.columns if x != 'datetime']\n",
    "    \n",
    "    # Create an array of struct with two fields: 'City' and 'Value'\n",
    "    df = df.withColumn(\"City_Value\", explode(array([struct(lit(c).alias(\"City\"), col(c).alias(\"Value\")) for c in cities])))\n",
    "    \n",
    "    # Select 'datetime' and fields from the struct\n",
    "    df = df.select(\"datetime\", \"City_Value.City\", \"City_Value.Value\")\n",
    "    \n",
    "    return df\n",
    "\n",
    "# Unpivot all weather dataframes\n",
    "humidity_df = unpivot(humidity_df)\n",
    "pressure_df = unpivot(pressure_df)\n",
    "temperature_df = unpivot(temperature_df)\n",
    "weather_desc_df = unpivot(weather_desc_df)\n",
    "wind_direction_df = unpivot(wind_direction_df)\n",
    "\n",
    "# Rename the 'Value' column in each dataframe to correspond to the correct weather attribute\n",
    "humidity_df = humidity_df.withColumnRenamed('Value', 'Humidity')\n",
    "pressure_df = pressure_df.withColumnRenamed('Value', 'Pressure')\n",
    "temperature_df = temperature_df.withColumnRenamed('Value', 'Temperature')\n",
    "weather_desc_df = weather_desc_df.withColumnRenamed('Value', 'Weather_Description')\n",
    "wind_direction_df = wind_direction_df.withColumnRenamed('Value', 'Wind_Direction')"
   ]
  },
  {
   "cell_type": "markdown",
   "metadata": {},
   "source": []
  },
  {
   "cell_type": "code",
   "execution_count": 28,
   "metadata": {},
   "outputs": [
    {
     "ename": "Py4JJavaError",
     "evalue": "An error occurred while calling o1990.parquet.\n: java.lang.UnsatisfiedLinkError: org.apache.hadoop.io.nativeio.NativeIO$Windows.access0(Ljava/lang/String;I)Z\r\n\tat org.apache.hadoop.io.nativeio.NativeIO$Windows.access0(Native Method)\r\n\tat org.apache.hadoop.io.nativeio.NativeIO$Windows.access(NativeIO.java:793)\r\n\tat org.apache.hadoop.fs.FileUtil.canRead(FileUtil.java:1249)\r\n\tat org.apache.hadoop.fs.FileUtil.list(FileUtil.java:1454)\r\n\tat org.apache.hadoop.fs.RawLocalFileSystem.listStatus(RawLocalFileSystem.java:601)\r\n\tat org.apache.hadoop.fs.FileSystem.listStatus(FileSystem.java:1972)\r\n\tat org.apache.hadoop.fs.FileSystem.listStatus(FileSystem.java:2014)\r\n\tat org.apache.hadoop.fs.ChecksumFileSystem.listStatus(ChecksumFileSystem.java:761)\r\n\tat org.apache.hadoop.fs.FileSystem.listStatus(FileSystem.java:1972)\r\n\tat org.apache.hadoop.fs.FileSystem.listStatus(FileSystem.java:2014)\r\n\tat org.apache.hadoop.mapreduce.lib.output.FileOutputCommitter.getAllCommittedTaskPaths(FileOutputCommitter.java:334)\r\n\tat org.apache.hadoop.mapreduce.lib.output.FileOutputCommitter.commitJobInternal(FileOutputCommitter.java:404)\r\n\tat org.apache.hadoop.mapreduce.lib.output.FileOutputCommitter.commitJob(FileOutputCommitter.java:377)\r\n\tat org.apache.parquet.hadoop.ParquetOutputCommitter.commitJob(ParquetOutputCommitter.java:48)\r\n\tat org.apache.spark.internal.io.HadoopMapReduceCommitProtocol.commitJob(HadoopMapReduceCommitProtocol.scala:192)\r\n\tat org.apache.spark.sql.execution.datasources.FileFormatWriter$.$anonfun$writeAndCommit$3(FileFormatWriter.scala:275)\r\n\tat scala.runtime.java8.JFunction0$mcV$sp.apply(JFunction0$mcV$sp.java:23)\r\n\tat org.apache.spark.util.Utils$.timeTakenMs(Utils.scala:640)\r\n\tat org.apache.spark.sql.execution.datasources.FileFormatWriter$.writeAndCommit(FileFormatWriter.scala:275)\r\n\tat org.apache.spark.sql.execution.datasources.FileFormatWriter$.executeWrite(FileFormatWriter.scala:304)\r\n\tat org.apache.spark.sql.execution.datasources.FileFormatWriter$.write(FileFormatWriter.scala:190)\r\n\tat org.apache.spark.sql.execution.datasources.InsertIntoHadoopFsRelationCommand.run(InsertIntoHadoopFsRelationCommand.scala:190)\r\n\tat org.apache.spark.sql.execution.command.DataWritingCommandExec.sideEffectResult$lzycompute(commands.scala:113)\r\n\tat org.apache.spark.sql.execution.command.DataWritingCommandExec.sideEffectResult(commands.scala:111)\r\n\tat org.apache.spark.sql.execution.command.DataWritingCommandExec.executeCollect(commands.scala:125)\r\n\tat org.apache.spark.sql.execution.adaptive.AdaptiveSparkPlanExec.$anonfun$executeCollect$1(AdaptiveSparkPlanExec.scala:354)\r\n\tat org.apache.spark.sql.execution.adaptive.AdaptiveSparkPlanExec.withFinalPlanUpdate(AdaptiveSparkPlanExec.scala:382)\r\n\tat org.apache.spark.sql.execution.adaptive.AdaptiveSparkPlanExec.executeCollect(AdaptiveSparkPlanExec.scala:354)\r\n\tat org.apache.spark.sql.execution.QueryExecution$$anonfun$eagerlyExecuteCommands$1.$anonfun$applyOrElse$1(QueryExecution.scala:98)\r\n\tat org.apache.spark.sql.execution.SQLExecution$.$anonfun$withNewExecutionId$6(SQLExecution.scala:118)\r\n\tat org.apache.spark.sql.execution.SQLExecution$.withSQLConfPropagated(SQLExecution.scala:195)\r\n\tat org.apache.spark.sql.execution.SQLExecution$.$anonfun$withNewExecutionId$1(SQLExecution.scala:103)\r\n\tat org.apache.spark.sql.SparkSession.withActive(SparkSession.scala:827)\r\n\tat org.apache.spark.sql.execution.SQLExecution$.withNewExecutionId(SQLExecution.scala:65)\r\n\tat org.apache.spark.sql.execution.QueryExecution$$anonfun$eagerlyExecuteCommands$1.applyOrElse(QueryExecution.scala:98)\r\n\tat org.apache.spark.sql.execution.QueryExecution$$anonfun$eagerlyExecuteCommands$1.applyOrElse(QueryExecution.scala:94)\r\n\tat org.apache.spark.sql.catalyst.trees.TreeNode.$anonfun$transformDownWithPruning$1(TreeNode.scala:512)\r\n\tat org.apache.spark.sql.catalyst.trees.CurrentOrigin$.withOrigin(TreeNode.scala:104)\r\n\tat org.apache.spark.sql.catalyst.trees.TreeNode.transformDownWithPruning(TreeNode.scala:512)\r\n\tat org.apache.spark.sql.catalyst.plans.logical.LogicalPlan.org$apache$spark$sql$catalyst$plans$logical$AnalysisHelper$$super$transformDownWithPruning(LogicalPlan.scala:31)\r\n\tat org.apache.spark.sql.catalyst.plans.logical.AnalysisHelper.transformDownWithPruning(AnalysisHelper.scala:267)\r\n\tat org.apache.spark.sql.catalyst.plans.logical.AnalysisHelper.transformDownWithPruning$(AnalysisHelper.scala:263)\r\n\tat org.apache.spark.sql.catalyst.plans.logical.LogicalPlan.transformDownWithPruning(LogicalPlan.scala:31)\r\n\tat org.apache.spark.sql.catalyst.plans.logical.LogicalPlan.transformDownWithPruning(LogicalPlan.scala:31)\r\n\tat org.apache.spark.sql.catalyst.trees.TreeNode.transformDown(TreeNode.scala:488)\r\n\tat org.apache.spark.sql.execution.QueryExecution.eagerlyExecuteCommands(QueryExecution.scala:94)\r\n\tat org.apache.spark.sql.execution.QueryExecution.commandExecuted$lzycompute(QueryExecution.scala:81)\r\n\tat org.apache.spark.sql.execution.QueryExecution.commandExecuted(QueryExecution.scala:79)\r\n\tat org.apache.spark.sql.execution.QueryExecution.assertCommandExecuted(QueryExecution.scala:133)\r\n\tat org.apache.spark.sql.DataFrameWriter.runCommand(DataFrameWriter.scala:856)\r\n\tat org.apache.spark.sql.DataFrameWriter.saveToV1Source(DataFrameWriter.scala:387)\r\n\tat org.apache.spark.sql.DataFrameWriter.saveInternal(DataFrameWriter.scala:360)\r\n\tat org.apache.spark.sql.DataFrameWriter.save(DataFrameWriter.scala:239)\r\n\tat org.apache.spark.sql.DataFrameWriter.parquet(DataFrameWriter.scala:789)\r\n\tat sun.reflect.NativeMethodAccessorImpl.invoke0(Native Method)\r\n\tat sun.reflect.NativeMethodAccessorImpl.invoke(NativeMethodAccessorImpl.java:62)\r\n\tat sun.reflect.DelegatingMethodAccessorImpl.invoke(DelegatingMethodAccessorImpl.java:43)\r\n\tat java.lang.reflect.Method.invoke(Method.java:498)\r\n\tat py4j.reflection.MethodInvoker.invoke(MethodInvoker.java:244)\r\n\tat py4j.reflection.ReflectionEngine.invoke(ReflectionEngine.java:374)\r\n\tat py4j.Gateway.invoke(Gateway.java:282)\r\n\tat py4j.commands.AbstractCommand.invokeMethod(AbstractCommand.java:132)\r\n\tat py4j.commands.CallCommand.execute(CallCommand.java:79)\r\n\tat py4j.ClientServerConnection.waitForCommands(ClientServerConnection.java:182)\r\n\tat py4j.ClientServerConnection.run(ClientServerConnection.java:106)\r\n\tat java.lang.Thread.run(Thread.java:750)\r\n",
     "output_type": "error",
     "traceback": [
      "\u001b[1;31m---------------------------------------------------------------------------\u001b[0m",
      "\u001b[1;31mPy4JJavaError\u001b[0m                             Traceback (most recent call last)",
      "Cell \u001b[1;32mIn[28], line 8\u001b[0m\n\u001b[0;32m      6\u001b[0m     \u001b[39mprint\u001b[39m(\u001b[39m\"\u001b[39m\u001b[39mThe accidents_table is empty.\u001b[39m\u001b[39m\"\u001b[39m)\n\u001b[0;32m      7\u001b[0m \u001b[39melse\u001b[39;00m:\n\u001b[1;32m----> 8\u001b[0m     accidents_table\u001b[39m.\u001b[39;49mwrite\u001b[39m.\u001b[39;49mmode(\u001b[39m'\u001b[39;49m\u001b[39moverwrite\u001b[39;49m\u001b[39m'\u001b[39;49m)\u001b[39m.\u001b[39;49mparquet(\u001b[39m'\u001b[39;49m\u001b[39mdata/accidents.parquet\u001b[39;49m\u001b[39m'\u001b[39;49m)\n\u001b[0;32m     10\u001b[0m \u001b[39m# 2. Dimension Table - city_attributes\u001b[39;00m\n\u001b[0;32m     11\u001b[0m city_attributes_table \u001b[39m=\u001b[39m city_attributes_df\u001b[39m.\u001b[39mselect(\u001b[39m\"\u001b[39m\u001b[39mCity\u001b[39m\u001b[39m\"\u001b[39m, \u001b[39m\"\u001b[39m\u001b[39mCountry\u001b[39m\u001b[39m\"\u001b[39m, \u001b[39m\"\u001b[39m\u001b[39mLatitude\u001b[39m\u001b[39m\"\u001b[39m, \u001b[39m\"\u001b[39m\u001b[39mLongitude\u001b[39m\u001b[39m\"\u001b[39m)\n",
      "File \u001b[1;32mc:\\Program Files\\My Projects\\pyspark\\venv\\lib\\site-packages\\pyspark\\sql\\readwriter.py:1656\u001b[0m, in \u001b[0;36mDataFrameWriter.parquet\u001b[1;34m(self, path, mode, partitionBy, compression)\u001b[0m\n\u001b[0;32m   1654\u001b[0m     \u001b[39mself\u001b[39m\u001b[39m.\u001b[39mpartitionBy(partitionBy)\n\u001b[0;32m   1655\u001b[0m \u001b[39mself\u001b[39m\u001b[39m.\u001b[39m_set_opts(compression\u001b[39m=\u001b[39mcompression)\n\u001b[1;32m-> 1656\u001b[0m \u001b[39mself\u001b[39;49m\u001b[39m.\u001b[39;49m_jwrite\u001b[39m.\u001b[39;49mparquet(path)\n",
      "File \u001b[1;32mc:\\Program Files\\My Projects\\pyspark\\venv\\lib\\site-packages\\py4j\\java_gateway.py:1322\u001b[0m, in \u001b[0;36mJavaMember.__call__\u001b[1;34m(self, *args)\u001b[0m\n\u001b[0;32m   1316\u001b[0m command \u001b[39m=\u001b[39m proto\u001b[39m.\u001b[39mCALL_COMMAND_NAME \u001b[39m+\u001b[39m\\\n\u001b[0;32m   1317\u001b[0m     \u001b[39mself\u001b[39m\u001b[39m.\u001b[39mcommand_header \u001b[39m+\u001b[39m\\\n\u001b[0;32m   1318\u001b[0m     args_command \u001b[39m+\u001b[39m\\\n\u001b[0;32m   1319\u001b[0m     proto\u001b[39m.\u001b[39mEND_COMMAND_PART\n\u001b[0;32m   1321\u001b[0m answer \u001b[39m=\u001b[39m \u001b[39mself\u001b[39m\u001b[39m.\u001b[39mgateway_client\u001b[39m.\u001b[39msend_command(command)\n\u001b[1;32m-> 1322\u001b[0m return_value \u001b[39m=\u001b[39m get_return_value(\n\u001b[0;32m   1323\u001b[0m     answer, \u001b[39mself\u001b[39;49m\u001b[39m.\u001b[39;49mgateway_client, \u001b[39mself\u001b[39;49m\u001b[39m.\u001b[39;49mtarget_id, \u001b[39mself\u001b[39;49m\u001b[39m.\u001b[39;49mname)\n\u001b[0;32m   1325\u001b[0m \u001b[39mfor\u001b[39;00m temp_arg \u001b[39min\u001b[39;00m temp_args:\n\u001b[0;32m   1326\u001b[0m     \u001b[39mif\u001b[39;00m \u001b[39mhasattr\u001b[39m(temp_arg, \u001b[39m\"\u001b[39m\u001b[39m_detach\u001b[39m\u001b[39m\"\u001b[39m):\n",
      "File \u001b[1;32mc:\\Program Files\\My Projects\\pyspark\\venv\\lib\\site-packages\\pyspark\\errors\\exceptions\\captured.py:169\u001b[0m, in \u001b[0;36mcapture_sql_exception.<locals>.deco\u001b[1;34m(*a, **kw)\u001b[0m\n\u001b[0;32m    167\u001b[0m \u001b[39mdef\u001b[39;00m \u001b[39mdeco\u001b[39m(\u001b[39m*\u001b[39ma: Any, \u001b[39m*\u001b[39m\u001b[39m*\u001b[39mkw: Any) \u001b[39m-\u001b[39m\u001b[39m>\u001b[39m Any:\n\u001b[0;32m    168\u001b[0m     \u001b[39mtry\u001b[39;00m:\n\u001b[1;32m--> 169\u001b[0m         \u001b[39mreturn\u001b[39;00m f(\u001b[39m*\u001b[39ma, \u001b[39m*\u001b[39m\u001b[39m*\u001b[39mkw)\n\u001b[0;32m    170\u001b[0m     \u001b[39mexcept\u001b[39;00m Py4JJavaError \u001b[39mas\u001b[39;00m e:\n\u001b[0;32m    171\u001b[0m         converted \u001b[39m=\u001b[39m convert_exception(e\u001b[39m.\u001b[39mjava_exception)\n",
      "File \u001b[1;32mc:\\Program Files\\My Projects\\pyspark\\venv\\lib\\site-packages\\py4j\\protocol.py:326\u001b[0m, in \u001b[0;36mget_return_value\u001b[1;34m(answer, gateway_client, target_id, name)\u001b[0m\n\u001b[0;32m    324\u001b[0m value \u001b[39m=\u001b[39m OUTPUT_CONVERTER[\u001b[39mtype\u001b[39m](answer[\u001b[39m2\u001b[39m:], gateway_client)\n\u001b[0;32m    325\u001b[0m \u001b[39mif\u001b[39;00m answer[\u001b[39m1\u001b[39m] \u001b[39m==\u001b[39m REFERENCE_TYPE:\n\u001b[1;32m--> 326\u001b[0m     \u001b[39mraise\u001b[39;00m Py4JJavaError(\n\u001b[0;32m    327\u001b[0m         \u001b[39m\"\u001b[39m\u001b[39mAn error occurred while calling \u001b[39m\u001b[39m{0}\u001b[39;00m\u001b[39m{1}\u001b[39;00m\u001b[39m{2}\u001b[39;00m\u001b[39m.\u001b[39m\u001b[39m\\n\u001b[39;00m\u001b[39m\"\u001b[39m\u001b[39m.\u001b[39m\n\u001b[0;32m    328\u001b[0m         \u001b[39mformat\u001b[39m(target_id, \u001b[39m\"\u001b[39m\u001b[39m.\u001b[39m\u001b[39m\"\u001b[39m, name), value)\n\u001b[0;32m    329\u001b[0m \u001b[39melse\u001b[39;00m:\n\u001b[0;32m    330\u001b[0m     \u001b[39mraise\u001b[39;00m Py4JError(\n\u001b[0;32m    331\u001b[0m         \u001b[39m\"\u001b[39m\u001b[39mAn error occurred while calling \u001b[39m\u001b[39m{0}\u001b[39;00m\u001b[39m{1}\u001b[39;00m\u001b[39m{2}\u001b[39;00m\u001b[39m. Trace:\u001b[39m\u001b[39m\\n\u001b[39;00m\u001b[39m{3}\u001b[39;00m\u001b[39m\\n\u001b[39;00m\u001b[39m\"\u001b[39m\u001b[39m.\u001b[39m\n\u001b[0;32m    332\u001b[0m         \u001b[39mformat\u001b[39m(target_id, \u001b[39m\"\u001b[39m\u001b[39m.\u001b[39m\u001b[39m\"\u001b[39m, name, value))\n",
      "\u001b[1;31mPy4JJavaError\u001b[0m: An error occurred while calling o1990.parquet.\n: java.lang.UnsatisfiedLinkError: org.apache.hadoop.io.nativeio.NativeIO$Windows.access0(Ljava/lang/String;I)Z\r\n\tat org.apache.hadoop.io.nativeio.NativeIO$Windows.access0(Native Method)\r\n\tat org.apache.hadoop.io.nativeio.NativeIO$Windows.access(NativeIO.java:793)\r\n\tat org.apache.hadoop.fs.FileUtil.canRead(FileUtil.java:1249)\r\n\tat org.apache.hadoop.fs.FileUtil.list(FileUtil.java:1454)\r\n\tat org.apache.hadoop.fs.RawLocalFileSystem.listStatus(RawLocalFileSystem.java:601)\r\n\tat org.apache.hadoop.fs.FileSystem.listStatus(FileSystem.java:1972)\r\n\tat org.apache.hadoop.fs.FileSystem.listStatus(FileSystem.java:2014)\r\n\tat org.apache.hadoop.fs.ChecksumFileSystem.listStatus(ChecksumFileSystem.java:761)\r\n\tat org.apache.hadoop.fs.FileSystem.listStatus(FileSystem.java:1972)\r\n\tat org.apache.hadoop.fs.FileSystem.listStatus(FileSystem.java:2014)\r\n\tat org.apache.hadoop.mapreduce.lib.output.FileOutputCommitter.getAllCommittedTaskPaths(FileOutputCommitter.java:334)\r\n\tat org.apache.hadoop.mapreduce.lib.output.FileOutputCommitter.commitJobInternal(FileOutputCommitter.java:404)\r\n\tat org.apache.hadoop.mapreduce.lib.output.FileOutputCommitter.commitJob(FileOutputCommitter.java:377)\r\n\tat org.apache.parquet.hadoop.ParquetOutputCommitter.commitJob(ParquetOutputCommitter.java:48)\r\n\tat org.apache.spark.internal.io.HadoopMapReduceCommitProtocol.commitJob(HadoopMapReduceCommitProtocol.scala:192)\r\n\tat org.apache.spark.sql.execution.datasources.FileFormatWriter$.$anonfun$writeAndCommit$3(FileFormatWriter.scala:275)\r\n\tat scala.runtime.java8.JFunction0$mcV$sp.apply(JFunction0$mcV$sp.java:23)\r\n\tat org.apache.spark.util.Utils$.timeTakenMs(Utils.scala:640)\r\n\tat org.apache.spark.sql.execution.datasources.FileFormatWriter$.writeAndCommit(FileFormatWriter.scala:275)\r\n\tat org.apache.spark.sql.execution.datasources.FileFormatWriter$.executeWrite(FileFormatWriter.scala:304)\r\n\tat org.apache.spark.sql.execution.datasources.FileFormatWriter$.write(FileFormatWriter.scala:190)\r\n\tat org.apache.spark.sql.execution.datasources.InsertIntoHadoopFsRelationCommand.run(InsertIntoHadoopFsRelationCommand.scala:190)\r\n\tat org.apache.spark.sql.execution.command.DataWritingCommandExec.sideEffectResult$lzycompute(commands.scala:113)\r\n\tat org.apache.spark.sql.execution.command.DataWritingCommandExec.sideEffectResult(commands.scala:111)\r\n\tat org.apache.spark.sql.execution.command.DataWritingCommandExec.executeCollect(commands.scala:125)\r\n\tat org.apache.spark.sql.execution.adaptive.AdaptiveSparkPlanExec.$anonfun$executeCollect$1(AdaptiveSparkPlanExec.scala:354)\r\n\tat org.apache.spark.sql.execution.adaptive.AdaptiveSparkPlanExec.withFinalPlanUpdate(AdaptiveSparkPlanExec.scala:382)\r\n\tat org.apache.spark.sql.execution.adaptive.AdaptiveSparkPlanExec.executeCollect(AdaptiveSparkPlanExec.scala:354)\r\n\tat org.apache.spark.sql.execution.QueryExecution$$anonfun$eagerlyExecuteCommands$1.$anonfun$applyOrElse$1(QueryExecution.scala:98)\r\n\tat org.apache.spark.sql.execution.SQLExecution$.$anonfun$withNewExecutionId$6(SQLExecution.scala:118)\r\n\tat org.apache.spark.sql.execution.SQLExecution$.withSQLConfPropagated(SQLExecution.scala:195)\r\n\tat org.apache.spark.sql.execution.SQLExecution$.$anonfun$withNewExecutionId$1(SQLExecution.scala:103)\r\n\tat org.apache.spark.sql.SparkSession.withActive(SparkSession.scala:827)\r\n\tat org.apache.spark.sql.execution.SQLExecution$.withNewExecutionId(SQLExecution.scala:65)\r\n\tat org.apache.spark.sql.execution.QueryExecution$$anonfun$eagerlyExecuteCommands$1.applyOrElse(QueryExecution.scala:98)\r\n\tat org.apache.spark.sql.execution.QueryExecution$$anonfun$eagerlyExecuteCommands$1.applyOrElse(QueryExecution.scala:94)\r\n\tat org.apache.spark.sql.catalyst.trees.TreeNode.$anonfun$transformDownWithPruning$1(TreeNode.scala:512)\r\n\tat org.apache.spark.sql.catalyst.trees.CurrentOrigin$.withOrigin(TreeNode.scala:104)\r\n\tat org.apache.spark.sql.catalyst.trees.TreeNode.transformDownWithPruning(TreeNode.scala:512)\r\n\tat org.apache.spark.sql.catalyst.plans.logical.LogicalPlan.org$apache$spark$sql$catalyst$plans$logical$AnalysisHelper$$super$transformDownWithPruning(LogicalPlan.scala:31)\r\n\tat org.apache.spark.sql.catalyst.plans.logical.AnalysisHelper.transformDownWithPruning(AnalysisHelper.scala:267)\r\n\tat org.apache.spark.sql.catalyst.plans.logical.AnalysisHelper.transformDownWithPruning$(AnalysisHelper.scala:263)\r\n\tat org.apache.spark.sql.catalyst.plans.logical.LogicalPlan.transformDownWithPruning(LogicalPlan.scala:31)\r\n\tat org.apache.spark.sql.catalyst.plans.logical.LogicalPlan.transformDownWithPruning(LogicalPlan.scala:31)\r\n\tat org.apache.spark.sql.catalyst.trees.TreeNode.transformDown(TreeNode.scala:488)\r\n\tat org.apache.spark.sql.execution.QueryExecution.eagerlyExecuteCommands(QueryExecution.scala:94)\r\n\tat org.apache.spark.sql.execution.QueryExecution.commandExecuted$lzycompute(QueryExecution.scala:81)\r\n\tat org.apache.spark.sql.execution.QueryExecution.commandExecuted(QueryExecution.scala:79)\r\n\tat org.apache.spark.sql.execution.QueryExecution.assertCommandExecuted(QueryExecution.scala:133)\r\n\tat org.apache.spark.sql.DataFrameWriter.runCommand(DataFrameWriter.scala:856)\r\n\tat org.apache.spark.sql.DataFrameWriter.saveToV1Source(DataFrameWriter.scala:387)\r\n\tat org.apache.spark.sql.DataFrameWriter.saveInternal(DataFrameWriter.scala:360)\r\n\tat org.apache.spark.sql.DataFrameWriter.save(DataFrameWriter.scala:239)\r\n\tat org.apache.spark.sql.DataFrameWriter.parquet(DataFrameWriter.scala:789)\r\n\tat sun.reflect.NativeMethodAccessorImpl.invoke0(Native Method)\r\n\tat sun.reflect.NativeMethodAccessorImpl.invoke(NativeMethodAccessorImpl.java:62)\r\n\tat sun.reflect.DelegatingMethodAccessorImpl.invoke(DelegatingMethodAccessorImpl.java:43)\r\n\tat java.lang.reflect.Method.invoke(Method.java:498)\r\n\tat py4j.reflection.MethodInvoker.invoke(MethodInvoker.java:244)\r\n\tat py4j.reflection.ReflectionEngine.invoke(ReflectionEngine.java:374)\r\n\tat py4j.Gateway.invoke(Gateway.java:282)\r\n\tat py4j.commands.AbstractCommand.invokeMethod(AbstractCommand.java:132)\r\n\tat py4j.commands.CallCommand.execute(CallCommand.java:79)\r\n\tat py4j.ClientServerConnection.waitForCommands(ClientServerConnection.java:182)\r\n\tat py4j.ClientServerConnection.run(ClientServerConnection.java:106)\r\n\tat java.lang.Thread.run(Thread.java:750)\r\n"
     ]
    }
   ],
   "source": [
    "# 1. Fact Table - accidents\n",
    "accidents_table = accidents_df.select(\"ID\", \"Severity\", \"Start_Time\", \"End_Time\", \"Start_Lat\", \"Start_Lng\", \"Description\", \"City\", \"County\", \"State\", \"Zipcode\", \"Temperature(F)\", \"Humidity(%)\", \"Pressure(in)\", \"Visibility(mi)\", \"Wind_Direction\", \"Wind_Speed(mph)\", \"Weather_Condition\")\n",
    "\n",
    "# Write accidents table to parquet file (if not empty)\n",
    "if accidents_table.rdd.isEmpty():\n",
    "    print(\"The accidents_table is empty.\")\n",
    "else:\n",
    "    accidents_table.write.mode('overwrite').parquet('data/accidents.parquet')\n",
    "\n",
    "# 2. Dimension Table - city_attributes\n",
    "city_attributes_table = city_attributes_df.select(\"City\", \"Country\", \"Latitude\", \"Longitude\")\n",
    "\n",
    "# Write city_attributes table to parquet file (if not empty)\n",
    "if city_attributes_table.rdd.isEmpty():\n",
    "    print(\"The city_attributes_table is empty.\")\n",
    "else:\n",
    "    city_attributes_table.write.mode('overwrite').parquet('data/acity_attributes.parquet')\n",
    "\n",
    "# 3. Dimension Table - weather\n",
    "# Merge weather related dataframes into one\n",
    "weather_df = humidity_df.join(pressure_df, [\"datetime\", \"City\"]).join(temperature_df, [\"datetime\", \"City\"]).join(weather_desc_df, [\"datetime\", \"City\"]).join(wind_direction_df, [\"datetime\", \"City\"]).join(wind_speed_df, [\"datetime\", \"City\"])\n",
    "\n",
    "weather_table = weather_df.select(\"datetime\", \"City\", \"Humidity\", \"Pressure\", \"Temperature\", \"Weather_Description\", \"Wind_Direction\", \"Wind_Speed\")\n",
    "\n",
    "# Write weather table to parquet file (if not empty)\n",
    "if weather_table.rdd.isEmpty():\n",
    "    print(\"The weather_table is empty.\")\n",
    "else:\n",
    "    weather_table.write.mode('overwrite').parquet('data/aweather.parquet')\n"
   ]
  },
  {
   "attachments": {},
   "cell_type": "markdown",
   "metadata": {},
   "source": [
    "#### 4.2 Data Quality Checks\n",
    "Explain the data quality checks you'll perform to ensure the pipeline ran as expected. These could include:\n",
    " * Integrity constraints on the relational database (e.g., unique key, data type, etc.)\n",
    " * Unit tests for the scripts to ensure they are doing the right thing\n",
    " * Source/Count checks to ensure completeness\n",
    " \n",
    "Run Quality Checks"
   ]
  },
  {
   "cell_type": "code",
   "execution_count": null,
   "metadata": {},
   "outputs": [],
   "source": [
    "# Perform quality checks here"
   ]
  },
  {
   "attachments": {},
   "cell_type": "markdown",
   "metadata": {},
   "source": [
    "#### 4.3 Data dictionary \n",
    "Create a data dictionary for your data model. For each field, provide a brief description of what the data is and where it came from. You can include the data dictionary in the notebook or in a separate file."
   ]
  },
  {
   "attachments": {},
   "cell_type": "markdown",
   "metadata": {},
   "source": [
    "#### Step 5: Complete Project Write Up\n",
    "* Clearly state the rationale for the choice of tools and technologies for the project.\n",
    "* Propose how often the data should be updated and why.\n",
    "* Write a description of how you would approach the problem differently under the following scenarios:\n",
    " * The data was increased by 100x.\n",
    " * The data populates a dashboard that must be updated on a daily basis by 7am every day.\n",
    " * The database needed to be accessed by 100+ people."
   ]
  },
  {
   "cell_type": "code",
   "execution_count": null,
   "metadata": {},
   "outputs": [],
   "source": []
  },
  {
   "cell_type": "code",
   "execution_count": null,
   "metadata": {},
   "outputs": [],
   "source": []
  },
  {
   "cell_type": "code",
   "execution_count": null,
   "metadata": {},
   "outputs": [],
   "source": []
  },
  {
   "cell_type": "code",
   "execution_count": null,
   "metadata": {},
   "outputs": [],
   "source": []
  },
  {
   "cell_type": "code",
   "execution_count": null,
   "metadata": {},
   "outputs": [],
   "source": []
  },
  {
   "cell_type": "code",
   "execution_count": null,
   "metadata": {},
   "outputs": [],
   "source": []
  }
 ],
 "metadata": {
  "kernelspec": {
   "display_name": "Python 3",
   "language": "python",
   "name": "python3"
  },
  "language_info": {
   "codemirror_mode": {
    "name": "ipython",
    "version": 3
   },
   "file_extension": ".py",
   "mimetype": "text/x-python",
   "name": "python",
   "nbconvert_exporter": "python",
   "pygments_lexer": "ipython3",
   "version": "3.10.11"
  }
 },
 "nbformat": 4,
 "nbformat_minor": 2
}
